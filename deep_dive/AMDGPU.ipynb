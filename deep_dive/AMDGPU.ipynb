{
 "cells": [
  {
   "cell_type": "markdown",
   "id": "a7a393e3",
   "metadata": {},
   "source": [
    "# Installation"
   ]
  },
  {
   "cell_type": "markdown",
   "id": "bd826c76",
   "metadata": {},
   "source": [
    "Nowadays, most GPU packages are easy to install: Just do a `Pkg.add(\"AMDGPU\"); Pkg.build(\"AMDGPU\")`, and many of the core ROCm components will be installed. If you have ROCm already installed on your system, set the environment variable `JULIA_DISABLE_AMDGPU_ARTIFACTS=1` before starting Julia, and do a `Pkg.build(\"AMDGPU\")` again."
   ]
  },
  {
   "cell_type": "code",
   "execution_count": 1,
   "id": "aa406029",
   "metadata": {},
   "outputs": [],
   "source": [
    "using Pkg\n",
    "#Pkg.add(\"AMDGPU\")\n",
    "Pkg.activate(@__DIR__)"
   ]
  },
  {
   "cell_type": "code",
   "execution_count": 1,
   "id": "d24ca759",
   "metadata": {},
   "outputs": [],
   "source": [
    "using AMDGPU"
   ]
  },
  {
   "cell_type": "markdown",
   "id": "0018ce98",
   "metadata": {},
   "source": [
    "With AMDGPU.jl, a good way to check if the package is functional is to call the `versioninfo()` function. Like `Base.versioninfo()`, this will print some information on the available hardware and loaded libraries:"
   ]
  },
  {
   "cell_type": "code",
   "execution_count": 2,
   "id": "cb247720",
   "metadata": {},
   "outputs": [
    {
     "name": "stdout",
     "output_type": "stream",
     "text": [
      "HSA Runtime (ready)\n",
      "- Version: 1.1.0\n",
      "- Initialized: false\n",
      "HIP Runtime (ready)\n",
      "ROCm-Device-Libs (ready)\n",
      "- Downloaded: true\n",
      "rocBLAS (ready)\n",
      "rocFFT (ready)\n",
      "rocRAND (ready)\n",
      "rocSPARSE (ready)\n",
      "rocALUTION (ready)\n",
      "MIOpen (ready)\n"
     ]
    }
   ],
   "source": [
    "AMDGPU.versioninfo()"
   ]
  },
  {
   "cell_type": "markdown",
   "id": "2f517bd4",
   "metadata": {},
   "source": [
    "Some details of the requirements for a working ROCm setup are documented, if you want to know more specifics: https://amdgpu.juliagpu.org/stable/#Setup-Instructions."
   ]
  },
  {
   "cell_type": "markdown",
   "id": "7226ab71",
   "metadata": {},
   "source": [
    "# Array programming"
   ]
  },
  {
   "cell_type": "markdown",
   "id": "5249a7f3",
   "metadata": {},
   "source": [
    "The easiest way to program GPUs in Julia is by using array operations. In AMDGPU.jl, that's done with the `ROCArray` type:"
   ]
  },
  {
   "cell_type": "code",
   "execution_count": 3,
   "id": "5b06aa7d",
   "metadata": {},
   "outputs": [
    {
     "data": {
      "text/plain": [
       "4-element ROCVector{Int64}:\n",
       " 1\n",
       " 2\n",
       " 3\n",
       " 4"
      ]
     },
     "execution_count": 3,
     "metadata": {},
     "output_type": "execute_result"
    }
   ],
   "source": [
    "a = ROCArray([1,2,3,4])"
   ]
  },
  {
   "cell_type": "code",
   "execution_count": 4,
   "id": "ea15a85a",
   "metadata": {},
   "outputs": [
    {
     "data": {
      "text/plain": [
       "4-element ROCVector{Int64}:\n",
       " 2\n",
       " 3\n",
       " 4\n",
       " 5"
      ]
     },
     "execution_count": 4,
     "metadata": {},
     "output_type": "execute_result"
    }
   ],
   "source": [
    "a .+= 1"
   ]
  },
  {
   "cell_type": "markdown",
   "id": "0e69b82d",
   "metadata": {},
   "source": [
    "These two operations demonstrate the different tasks that `ROCArray` has:\n",
    "1. a container for storing GPU data and managing its lifetime\n",
    "2. a abstraction for executing parallel operations on the GPU"
   ]
  },
  {
   "cell_type": "markdown",
   "id": "b686fa55",
   "metadata": {},
   "source": [
    "## Scalar indexing"
   ]
  },
  {
   "cell_type": "markdown",
   "id": "2e1150f7",
   "metadata": {},
   "source": [
    "It's crucial to remember that `ROCArray` is an abstraction that derives parallelism from its operations. AMDGPU.jl is **not** a parallelizing compiler, which e.g. means you cannot use element-wise for loops and expect those to execute efficiently on the GPU:"
   ]
  },
  {
   "cell_type": "code",
   "execution_count": 5,
   "id": "d53b0754",
   "metadata": {
    "scrolled": true
   },
   "outputs": [
    {
     "name": "stderr",
     "output_type": "stream",
     "text": [
      "┌ Warning: Performing scalar indexing on task Task (runnable) @0x00007f6e400e8be0.\n",
      "│ Invocation of getindex resulted in scalar indexing of a GPU array.\n",
      "│ This is typically caused by calling an iterating implementation of a method.\n",
      "│ Such implementations *do not* execute on the GPU, but very slowly on the CPU,\n",
      "│ and therefore are only permitted from the REPL for prototyping purposes.\n",
      "│ If you did intend to index this array, annotate the caller with @allowscalar.\n",
      "└ @ GPUArrays /home/jsamaroo/.julia/packages/GPUArrays/8dzSJ/src/host/indexing.jl:56\n"
     ]
    },
    {
     "data": {
      "text/plain": [
       "4-element ROCVector{Int64}:\n",
       " 3\n",
       " 4\n",
       " 5\n",
       " 6"
      ]
     },
     "execution_count": 5,
     "metadata": {},
     "output_type": "execute_result"
    }
   ],
   "source": [
    "for i in eachindex(a)\n",
    "    a[i] += 1\n",
    "end\n",
    "a"
   ]
  },
  {
   "cell_type": "markdown",
   "id": "d3612897",
   "metadata": {},
   "source": [
    "As you can see, the operation *did* complete successfully, but with a nasty warning. In fact, the operation did not complete on the GPU, but on the CPU, while fetching and writing each value back separately. Needless to say, that's extremely slow."
   ]
  },
  {
   "cell_type": "markdown",
   "id": "d54ee21a",
   "metadata": {},
   "source": [
    "Scalar indexing is allowed by default because it's a convenient tool to get up to speed when porting code. You can explicitly enable or disable the feature too:"
   ]
  },
  {
   "cell_type": "code",
   "execution_count": 6,
   "id": "f8377390",
   "metadata": {},
   "outputs": [
    {
     "ename": "LoadError",
     "evalue": "Scalar indexing is disallowed.\nInvocation of getindex resulted in scalar indexing of a GPU array.\nThis is typically caused by calling an iterating implementation of a method.\nSuch implementations *do not* execute on the GPU, but very slowly on the CPU,\nand therefore are only permitted from the REPL for prototyping purposes.\nIf you did intend to index this array, annotate the caller with @allowscalar.",
     "output_type": "error",
     "traceback": [
      "Scalar indexing is disallowed.\nInvocation of getindex resulted in scalar indexing of a GPU array.\nThis is typically caused by calling an iterating implementation of a method.\nSuch implementations *do not* execute on the GPU, but very slowly on the CPU,\nand therefore are only permitted from the REPL for prototyping purposes.\nIf you did intend to index this array, annotate the caller with @allowscalar.",
      "",
      "Stacktrace:",
      " [1] error(s::String)",
      "   @ Base ./error.jl:33",
      " [2] assertscalar(op::String)",
      "   @ GPUArrays ~/.julia/packages/GPUArrays/8dzSJ/src/host/indexing.jl:53",
      " [3] getindex(xs::ROCVector{Int64}, I::Int64)",
      "   @ GPUArrays ~/.julia/packages/GPUArrays/8dzSJ/src/host/indexing.jl:86",
      " [4] top-level scope",
      "   @ In[6]:2",
      " [5] eval",
      "   @ ./boot.jl:360 [inlined]",
      " [6] include_string(mapexpr::typeof(REPL.softscope), mod::Module, code::String, filename::String)",
      "   @ Base ./loading.jl:1094"
     ]
    }
   ],
   "source": [
    "AMDGPU.allowscalar(false)\n",
    "a[1]"
   ]
  },
  {
   "cell_type": "markdown",
   "id": "5b80ea3b",
   "metadata": {},
   "source": [
    "When porting code, it's often convenient to temporarily allow scalar indexing of certain operations. This can be done using the `@allowscalar` macro:"
   ]
  },
  {
   "cell_type": "code",
   "execution_count": 7,
   "id": "d00eee81",
   "metadata": {},
   "outputs": [
    {
     "data": {
      "text/plain": [
       "3"
      ]
     },
     "execution_count": 7,
     "metadata": {},
     "output_type": "execute_result"
    }
   ],
   "source": [
    "AMDGPU.@allowscalar a[1]"
   ]
  },
  {
   "cell_type": "markdown",
   "id": "9edc50fc",
   "metadata": {},
   "source": [
    "## Array interface"
   ]
  },
  {
   "cell_type": "markdown",
   "id": "fe266cd9",
   "metadata": {},
   "source": [
    "The `ROCArray` type is implemented to resemble `Base.Array`, making it easy to get up to speed, but also making it possible to write generic code that works on all kinds of arrays:"
   ]
  },
  {
   "cell_type": "code",
   "execution_count": 8,
   "id": "f91e44f9",
   "metadata": {},
   "outputs": [
    {
     "data": {
      "text/plain": [
       "10-element ROCVector{Float32}:\n",
       " -0.372549\n",
       " -0.372549\n",
       " -0.372549\n",
       " -0.372549\n",
       " -0.372549\n",
       " -0.372549\n",
       " -0.372549\n",
       " -0.372549\n",
       " -0.372549\n",
       " -0.372549"
      ]
     },
     "execution_count": 8,
     "metadata": {},
     "output_type": "execute_result"
    }
   ],
   "source": [
    "# allocate data\n",
    "a = ROCArray{Float32}(undef, 10)"
   ]
  },
  {
   "cell_type": "code",
   "execution_count": 9,
   "id": "e9cc4b3f",
   "metadata": {},
   "outputs": [
    {
     "data": {
      "text/plain": [
       "10-element ROCVector{Float32}:\n",
       "  1.0\n",
       "  2.0\n",
       "  3.0\n",
       "  4.0\n",
       "  5.0\n",
       "  6.0\n",
       "  7.0\n",
       "  8.0\n",
       "  9.0\n",
       " 10.0"
      ]
     },
     "execution_count": 9,
     "metadata": {},
     "output_type": "execute_result"
    }
   ],
   "source": [
    "# allocate & initialize\n",
    "b = ROCArray{Float32}([i for i in 1:length(a)])"
   ]
  },
  {
   "cell_type": "code",
   "execution_count": 10,
   "id": "04e2e2ef",
   "metadata": {},
   "outputs": [
    {
     "data": {
      "text/plain": [
       "10-element ROCVector{Float32}:\n",
       "  1.0\n",
       "  2.0\n",
       "  3.0\n",
       "  4.0\n",
       "  5.0\n",
       "  6.0\n",
       "  7.0\n",
       "  8.0\n",
       "  9.0\n",
       " 10.0"
      ]
     },
     "execution_count": 10,
     "metadata": {},
     "output_type": "execute_result"
    }
   ],
   "source": [
    "copyto!(a, b)"
   ]
  },
  {
   "cell_type": "code",
   "execution_count": 11,
   "id": "e76a6167",
   "metadata": {},
   "outputs": [
    {
     "data": {
      "text/plain": [
       "10-element ROCVector{Float32}:\n",
       " 42.0\n",
       " 42.0\n",
       " 42.0\n",
       " 42.0\n",
       " 42.0\n",
       " 42.0\n",
       " 42.0\n",
       " 42.0\n",
       " 42.0\n",
       " 42.0"
      ]
     },
     "execution_count": 11,
     "metadata": {},
     "output_type": "execute_result"
    }
   ],
   "source": [
    "fill!(a, 42)"
   ]
  },
  {
   "cell_type": "code",
   "execution_count": 12,
   "id": "9cb7cf01",
   "metadata": {},
   "outputs": [
    {
     "data": {
      "text/plain": [
       "10-element ROCVector{Float32}:\n",
       " -0.372549\n",
       " -0.372549\n",
       " -0.372549\n",
       " -0.372549\n",
       " -0.372549\n",
       " -0.372549\n",
       " -0.372549\n",
       " -0.372549\n",
       " -0.372549\n",
       " -0.372549"
      ]
     },
     "execution_count": 12,
     "metadata": {},
     "output_type": "execute_result"
    }
   ],
   "source": [
    "similar(a)"
   ]
  },
  {
   "cell_type": "markdown",
   "id": "a3331a36",
   "metadata": {},
   "source": [
    "Some array operations don't take an array type, so it's impossible to dispatch to a GPU-specific version. For those, the AMDGPU module has an unexported version:"
   ]
  },
  {
   "cell_type": "code",
   "execution_count": 13,
   "id": "e1037bf0",
   "metadata": {},
   "outputs": [
    {
     "data": {
      "text/plain": [
       "10-element ROCVector{Float32}:\n",
       " 1.0\n",
       " 1.0\n",
       " 1.0\n",
       " 1.0\n",
       " 1.0\n",
       " 1.0\n",
       " 1.0\n",
       " 1.0\n",
       " 1.0\n",
       " 1.0"
      ]
     },
     "execution_count": 13,
     "metadata": {},
     "output_type": "execute_result"
    }
   ],
   "source": [
    "c = AMDGPU.ones(length(a))"
   ]
  },
  {
   "cell_type": "code",
   "execution_count": 14,
   "id": "d4168a4b",
   "metadata": {},
   "outputs": [
    {
     "data": {
      "text/plain": [
       "10-element ROCVector{Float32}:\n",
       " 0.39369312\n",
       " 0.60654837\n",
       " 0.43148258\n",
       " 0.12269796\n",
       " 0.4146225\n",
       " 0.42832327\n",
       " 0.19583392\n",
       " 0.96349037\n",
       " 0.8926966\n",
       " 0.47283706"
      ]
     },
     "execution_count": 14,
     "metadata": {},
     "output_type": "execute_result"
    }
   ],
   "source": [
    "d = AMDGPU.rand(length(a))"
   ]
  },
  {
   "cell_type": "markdown",
   "id": "e5b23442",
   "metadata": {},
   "source": [
    "## Vendor libraries"
   ]
  },
  {
   "cell_type": "markdown",
   "id": "22c5b807",
   "metadata": {},
   "source": [
    "For actually useful operations that perform some computations on the GPU, we integrate with AMD's libraries that provide precompiled kernels for many operations:"
   ]
  },
  {
   "cell_type": "code",
   "execution_count": 15,
   "id": "da5a14dd",
   "metadata": {},
   "outputs": [
    {
     "data": {
      "text/plain": [
       "10-element ROCVector{Float32}:\n",
       " 2.4797223\n",
       " 2.4381323\n",
       " 2.3913164\n",
       " 3.1018968\n",
       " 2.8257847\n",
       " 2.2881155\n",
       " 2.7073734\n",
       " 2.9817493\n",
       " 1.8857439\n",
       " 2.1844478"
      ]
     },
     "execution_count": 15,
     "metadata": {},
     "output_type": "execute_result"
    }
   ],
   "source": [
    "# rocBLAS\n",
    "using LinearAlgebra\n",
    "mul!(d, AMDGPU.rand(10,10), d)"
   ]
  },
  {
   "cell_type": "code",
   "execution_count": 16,
   "id": "1f71ef0b",
   "metadata": {},
   "outputs": [
    {
     "data": {
      "text/plain": [
       "10-element ROCVector{Float32}:\n",
       " 0.63391775\n",
       " 0.48040006\n",
       " 0.060026173\n",
       " 0.71439683\n",
       " 0.4586757\n",
       " 0.21970661\n",
       " 0.05693173\n",
       " 0.7313285\n",
       " 0.61527807\n",
       " 0.48223892"
      ]
     },
     "execution_count": 16,
     "metadata": {},
     "output_type": "execute_result"
    }
   ],
   "source": [
    "# rocRAND\n",
    "using Random\n",
    "rand!(d)"
   ]
  },
  {
   "cell_type": "code",
   "execution_count": 19,
   "id": "84ef6ee4",
   "metadata": {},
   "outputs": [],
   "source": [
    "# rocALUTION\n",
    "# TODO: qr(d);"
   ]
  },
  {
   "cell_type": "code",
   "execution_count": 17,
   "id": "44855940",
   "metadata": {},
   "outputs": [
    {
     "ename": "LoadError",
     "evalue": "MethodError: no method matching ROCArray(::Type{ComplexF32}, ::Tuple{Int64})",
     "output_type": "error",
     "traceback": [
      "MethodError: no method matching ROCArray(::Type{ComplexF32}, ::Tuple{Int64})",
      "",
      "Stacktrace:",
      " [1] copy1(#unused#::Type{ComplexF32}, x::ROCVector{Float32})",
      "   @ AMDGPU.rocFFT ~/.julia/packages/AMDGPU/YXDXx/src/fft/util.jl:17",
      " [2] complexfloat(x::ROCVector{Float32})",
      "   @ AMDGPU.rocFFT ~/.julia/packages/AMDGPU/YXDXx/src/fft/util.jl:11",
      " [3] fft(x::ROCVector{Float32}, region::UnitRange{Int64}) (repeats 2 times)",
      "   @ AMDGPU.rocFFT ~/.julia/packages/AMDGPU/YXDXx/src/fft/fft.jl:232",
      " [4] top-level scope",
      "   @ In[17]:3",
      " [5] eval",
      "   @ ./boot.jl:360 [inlined]",
      " [6] include_string(mapexpr::typeof(REPL.softscope), mod::Module, code::String, filename::String)",
      "   @ Base ./loading.jl:1094"
     ]
    }
   ],
   "source": [
    "# rocFFT\n",
    "using AbstractFFTs\n",
    "fft(d)"
   ]
  },
  {
   "cell_type": "markdown",
   "id": "5501a6b7",
   "metadata": {},
   "source": [
    "Note that this is one of the areas where AMDGPU.jl falls short of CUDA.jl: Wrapping libraries is not a difficult task, but it certainly is a tedious one."
   ]
  },
  {
   "cell_type": "markdown",
   "id": "93c02783",
   "metadata": {},
   "source": [
    "So if you're missing a certain wrapper, or you know how to implement e.g. some LinearAlgebra interface, please consider contributing to AMDGPU.jl! The rocBLAS APIs are documented, https://rocblas.readthedocs.io/en/latest/functions.html#rocblas-functions, but often require domain expertise to properly interpret them and implement high-level wrappers. You can often look at the CUBLAS https://docs.nvidia.com/cuda/cublas/index.html#using-the-cublas-api if the rocBLAS documentation is lacking."
   ]
  },
  {
   "cell_type": "markdown",
   "id": "b4647720",
   "metadata": {},
   "source": [
    "## Higher-order abstractions"
   ]
  },
  {
   "cell_type": "markdown",
   "id": "0feb7cdb",
   "metadata": {},
   "source": [
    "Although the ROCArray type and its support for AMD's vendor libraries is nice, it isn't really novel and could as well have been implemented in Python (and libraries like CuPy do exactly that). The real flexibility of Julia's arrays comes from its higher-order abstractions, where you combine the abstraction with custom code:"
   ]
  },
  {
   "cell_type": "code",
   "execution_count": 18,
   "id": "b2eeb495",
   "metadata": {},
   "outputs": [
    {
     "data": {
      "text/plain": [
       "10-element ROCVector{Float32}:\n",
       " 2.0\n",
       " 2.0\n",
       " 2.0\n",
       " 2.0\n",
       " 2.0\n",
       " 2.0\n",
       " 2.0\n",
       " 2.0\n",
       " 2.0\n",
       " 2.0"
      ]
     },
     "execution_count": 18,
     "metadata": {},
     "output_type": "execute_result"
    }
   ],
   "source": [
    "a = AMDGPU.ones(10)\n",
    "broadcast(a) do x\n",
    "    x += 1\n",
    "end"
   ]
  },
  {
   "cell_type": "code",
   "execution_count": 19,
   "id": "98d7c5e6",
   "metadata": {},
   "outputs": [
    {
     "data": {
      "text/plain": [
       "10-element ROCVector{Float32}:\n",
       " 2.0\n",
       " 2.0\n",
       " 2.0\n",
       " 2.0\n",
       " 2.0\n",
       " 2.0\n",
       " 2.0\n",
       " 2.0\n",
       " 2.0\n",
       " 2.0"
      ]
     },
     "execution_count": 19,
     "metadata": {},
     "output_type": "execute_result"
    }
   ],
   "source": [
    "# or written more succinctly:\n",
    "a .+ 1"
   ]
  },
  {
   "cell_type": "markdown",
   "id": "57c272b4",
   "metadata": {},
   "source": [
    "These abstractions are really powerful, because while we only need to provide a single generic implementation in AMDGPU.jl, it makes it possible to generate specialized kernels for your application. Many more are supported:"
   ]
  },
  {
   "cell_type": "code",
   "execution_count": 20,
   "id": "1cc7ff9c",
   "metadata": {},
   "outputs": [
    {
     "data": {
      "text/plain": [
       "10-element ROCVector{Float32}:\n",
       " 2.0\n",
       " 2.0\n",
       " 2.0\n",
       " 2.0\n",
       " 2.0\n",
       " 2.0\n",
       " 2.0\n",
       " 2.0\n",
       " 2.0\n",
       " 2.0"
      ]
     },
     "execution_count": 20,
     "metadata": {},
     "output_type": "execute_result"
    }
   ],
   "source": [
    "map(a) do x\n",
    "    x + 1\n",
    "end"
   ]
  },
  {
   "cell_type": "code",
   "execution_count": 21,
   "id": "565dfd27",
   "metadata": {},
   "outputs": [
    {
     "data": {
      "text/plain": [
       "10.0f0"
      ]
     },
     "execution_count": 21,
     "metadata": {},
     "output_type": "execute_result"
    }
   ],
   "source": [
    "reduce(+, a)"
   ]
  },
  {
   "cell_type": "code",
   "execution_count": 22,
   "id": "b08b3ff4",
   "metadata": {},
   "outputs": [
    {
     "ename": "LoadError",
     "evalue": "Scalar indexing is disallowed.\nInvocation of getindex resulted in scalar indexing of a GPU array.\nThis is typically caused by calling an iterating implementation of a method.\nSuch implementations *do not* execute on the GPU, but very slowly on the CPU,\nand therefore are only permitted from the REPL for prototyping purposes.\nIf you did intend to index this array, annotate the caller with @allowscalar.",
     "output_type": "error",
     "traceback": [
      "Scalar indexing is disallowed.\nInvocation of getindex resulted in scalar indexing of a GPU array.\nThis is typically caused by calling an iterating implementation of a method.\nSuch implementations *do not* execute on the GPU, but very slowly on the CPU,\nand therefore are only permitted from the REPL for prototyping purposes.\nIf you did intend to index this array, annotate the caller with @allowscalar.",
      "",
      "Stacktrace:",
      "  [1] error(s::String)",
      "    @ Base ./error.jl:33",
      "  [2] assertscalar(op::String)",
      "    @ GPUArrays ~/.julia/packages/GPUArrays/8dzSJ/src/host/indexing.jl:53",
      "  [3] getindex",
      "    @ ~/.julia/packages/GPUArrays/8dzSJ/src/host/indexing.jl:86 [inlined]",
      "  [4] first",
      "    @ ./abstractarray.jl:368 [inlined]",
      "  [5] _accumulate!(op::Function, B::ROCVector{Float32}, A::ROCVector{Float32}, dims::Nothing, init::Nothing)",
      "    @ Base ./accumulate.jl:373",
      "  [6] #accumulate!#738",
      "    @ ./accumulate.jl:359 [inlined]",
      "  [7] accumulate(op::Function, A::ROCVector{Float32}; dims::Nothing, kw::Base.Iterators.Pairs{Union{}, Union{}, Tuple{}, NamedTuple{(), Tuple{}}})",
      "    @ Base ./accumulate.jl:302",
      "  [8] accumulate(op::Function, A::ROCVector{Float32})",
      "    @ Base ./accumulate.jl:290",
      "  [9] top-level scope",
      "    @ In[22]:1",
      " [10] eval",
      "    @ ./boot.jl:360 [inlined]",
      " [11] include_string(mapexpr::typeof(REPL.softscope), mod::Module, code::String, filename::String)",
      "    @ Base ./loading.jl:1094"
     ]
    }
   ],
   "source": [
    "accumulate(+, a)"
   ]
  },
  {
   "cell_type": "markdown",
   "id": "6d28516e",
   "metadata": {},
   "source": [
    "It is important to note here that **AMDGPU.jl is not a tensor compiler**. It implements these abstractions directly, and generates scalar kernels. Multiple operations are generally not fused together, and generic functions that operate on other arrays (like mapping over `eachcol`, or using `eachslice`) do not directly result in a GPU kernel:"
   ]
  },
  {
   "cell_type": "code",
   "execution_count": 23,
   "id": "92ab4198",
   "metadata": {},
   "outputs": [
    {
     "data": {
      "text/plain": [
       "10-element Vector{Float32}:\n",
       " 10.0\n",
       " 10.0\n",
       " 10.0\n",
       " 10.0\n",
       " 10.0\n",
       " 10.0\n",
       " 10.0\n",
       " 10.0\n",
       " 10.0\n",
       " 10.0"
      ]
     },
     "execution_count": 23,
     "metadata": {},
     "output_type": "execute_result"
    }
   ],
   "source": [
    "a = AMDGPU.ones(10, 10)\n",
    "broadcast(eachcol(a)) do x\n",
    "    sum(x)\n",
    "end"
   ]
  },
  {
   "cell_type": "markdown",
   "id": "0a33d104",
   "metadata": {},
   "source": [
    "Performing the `sum` within the `map` results in one kernel launch per column, which is slow and doesn't efficiently use the GPU:"
   ]
  },
  {
   "cell_type": "code",
   "execution_count": 24,
   "id": "cc01e273",
   "metadata": {},
   "outputs": [
    {
     "data": {
      "text/plain": [
       "BenchmarkTools.Trial: 202 samples with 1 evaluation.\n",
       " Range \u001b[90m(\u001b[39m\u001b[36m\u001b[1mmin\u001b[22m\u001b[39m … \u001b[35mmax\u001b[39m\u001b[90m):  \u001b[39m\u001b[36m\u001b[1m23.224 ms\u001b[22m\u001b[39m … \u001b[35m 25.483 ms\u001b[39m  \u001b[90m┊\u001b[39m GC \u001b[90m(\u001b[39mmin … max\u001b[90m): \u001b[39m0.00% … 0.00%\n",
       " Time  \u001b[90m(\u001b[39m\u001b[34m\u001b[1mmedian\u001b[22m\u001b[39m\u001b[90m):     \u001b[39m\u001b[34m\u001b[1m24.979 ms               \u001b[22m\u001b[39m\u001b[90m┊\u001b[39m GC \u001b[90m(\u001b[39mmedian\u001b[90m):    \u001b[39m0.00%\n",
       " Time  \u001b[90m(\u001b[39m\u001b[32m\u001b[1mmean\u001b[22m\u001b[39m ± \u001b[32mσ\u001b[39m\u001b[90m):   \u001b[39m\u001b[32m\u001b[1m24.836 ms\u001b[22m\u001b[39m ± \u001b[32m344.964 μs\u001b[39m  \u001b[90m┊\u001b[39m GC \u001b[90m(\u001b[39mmean ± σ\u001b[90m):  \u001b[39m0.00% ± 0.00%\n",
       "\n",
       "  \u001b[39m \u001b[39m \u001b[39m \u001b[39m \u001b[39m \u001b[39m \u001b[39m \u001b[39m \u001b[39m \u001b[39m \u001b[39m \u001b[39m \u001b[39m \u001b[39m \u001b[39m \u001b[39m \u001b[39m \u001b[39m \u001b[39m \u001b[39m \u001b[39m \u001b[39m \u001b[39m \u001b[39m \u001b[39m \u001b[39m \u001b[39m \u001b[39m \u001b[39m \u001b[39m \u001b[39m \u001b[39m \u001b[39m \u001b[39m \u001b[39m \u001b[39m \u001b[39m \u001b[39m \u001b[39m \u001b[39m \u001b[39m \u001b[39m \u001b[39m \u001b[39m \u001b[39m \u001b[39m \u001b[39m \u001b[39m \u001b[32m \u001b[39m\u001b[39m \u001b[39m \u001b[39m▅\u001b[34m█\u001b[39m\u001b[39m▃\u001b[39m \u001b[39m \u001b[39m \u001b[39m \u001b[39m \u001b[39m \u001b[39m \u001b[39m \n",
       "  \u001b[39m▄\u001b[39m▁\u001b[39m▁\u001b[39m▁\u001b[39m▁\u001b[39m▁\u001b[39m▁\u001b[39m▆\u001b[39m▄\u001b[39m▁\u001b[39m▄\u001b[39m▁\u001b[39m▄\u001b[39m▄\u001b[39m▄\u001b[39m▁\u001b[39m▄\u001b[39m▁\u001b[39m▁\u001b[39m▁\u001b[39m▁\u001b[39m▄\u001b[39m▁\u001b[39m▁\u001b[39m▁\u001b[39m▁\u001b[39m▁\u001b[39m▁\u001b[39m▁\u001b[39m▆\u001b[39m▁\u001b[39m▁\u001b[39m▁\u001b[39m▁\u001b[39m▇\u001b[39m█\u001b[39m▆\u001b[39m▆\u001b[39m▄\u001b[39m▄\u001b[39m█\u001b[39m█\u001b[39m▆\u001b[39m▆\u001b[39m▁\u001b[39m▆\u001b[39m█\u001b[39m▁\u001b[32m▄\u001b[39m\u001b[39m▆\u001b[39m█\u001b[39m█\u001b[34m█\u001b[39m\u001b[39m█\u001b[39m█\u001b[39m▄\u001b[39m▁\u001b[39m▁\u001b[39m▁\u001b[39m▆\u001b[39m \u001b[39m▆\n",
       "  23.2 ms\u001b[90m       \u001b[39m\u001b[90mHistogram: \u001b[39m\u001b[90m\u001b[1mlog(\u001b[22m\u001b[39m\u001b[90mfrequency\u001b[39m\u001b[90m\u001b[1m)\u001b[22m\u001b[39m\u001b[90m by time\u001b[39m      25.2 ms \u001b[0m\u001b[1m<\u001b[22m\n",
       "\n",
       " Memory estimate\u001b[90m: \u001b[39m\u001b[33m133.03 KiB\u001b[39m, allocs estimate\u001b[90m: \u001b[39m\u001b[33m2912\u001b[39m."
      ]
     },
     "execution_count": 24,
     "metadata": {},
     "output_type": "execute_result"
    }
   ],
   "source": [
    "using BenchmarkTools\n",
    "@benchmark broadcast(eachcol($a)) do x\n",
    "    sum(x)\n",
    "end"
   ]
  },
  {
   "cell_type": "markdown",
   "id": "e31a0f57",
   "metadata": {},
   "source": [
    "Instead, if the array operation supports it, you should merge them into a single invocation:"
   ]
  },
  {
   "cell_type": "code",
   "execution_count": 25,
   "id": "8a2d4fc6",
   "metadata": {},
   "outputs": [
    {
     "data": {
      "text/plain": [
       "10×1 ROCMatrix{Float32}:\n",
       " 10.0\n",
       " 10.0\n",
       " 10.0\n",
       " 10.0\n",
       " 10.0\n",
       " 10.0\n",
       " 10.0\n",
       " 10.0\n",
       " 10.0\n",
       " 10.0"
      ]
     },
     "execution_count": 25,
     "metadata": {},
     "output_type": "execute_result"
    }
   ],
   "source": [
    "sum(a; dims=2)"
   ]
  },
  {
   "cell_type": "code",
   "execution_count": 27,
   "id": "c446811d",
   "metadata": {},
   "outputs": [
    {
     "data": {
      "text/plain": [
       "BenchmarkTools.Trial: 2134 samples with 1 evaluation.\n",
       " Range \u001b[90m(\u001b[39m\u001b[36m\u001b[1mmin\u001b[22m\u001b[39m … \u001b[35mmax\u001b[39m\u001b[90m):  \u001b[39m\u001b[36m\u001b[1m271.586 μs\u001b[22m\u001b[39m … \u001b[35m  2.882 ms\u001b[39m  \u001b[90m┊\u001b[39m GC \u001b[90m(\u001b[39mmin … max\u001b[90m): \u001b[39m0.00% … 0.00%\n",
       " Time  \u001b[90m(\u001b[39m\u001b[34m\u001b[1mmedian\u001b[22m\u001b[39m\u001b[90m):     \u001b[39m\u001b[34m\u001b[1m  2.332 ms               \u001b[22m\u001b[39m\u001b[90m┊\u001b[39m GC \u001b[90m(\u001b[39mmedian\u001b[90m):    \u001b[39m0.00%\n",
       " Time  \u001b[90m(\u001b[39m\u001b[32m\u001b[1mmean\u001b[22m\u001b[39m ± \u001b[32mσ\u001b[39m\u001b[90m):   \u001b[39m\u001b[32m\u001b[1m  2.335 ms\u001b[22m\u001b[39m ± \u001b[32m145.720 μs\u001b[39m  \u001b[90m┊\u001b[39m GC \u001b[90m(\u001b[39mmean ± σ\u001b[90m):  \u001b[39m0.00% ± 0.00%\n",
       "\n",
       "  \u001b[39m \u001b[39m \u001b[39m \u001b[39m \u001b[39m \u001b[39m \u001b[39m \u001b[39m \u001b[39m \u001b[39m \u001b[39m \u001b[39m \u001b[39m \u001b[39m \u001b[39m \u001b[39m \u001b[39m \u001b[39m \u001b[39m \u001b[39m \u001b[39m \u001b[39m \u001b[39m \u001b[39m \u001b[39m \u001b[39m \u001b[39m \u001b[39m \u001b[39m \u001b[39m \u001b[39m \u001b[39m \u001b[39m \u001b[39m \u001b[39m \u001b[39m \u001b[39m \u001b[39m \u001b[39m \u001b[39m \u001b[39m \u001b[39m \u001b[39m \u001b[39m \u001b[39m \u001b[39m \u001b[39m \u001b[39m \u001b[39m \u001b[39m \u001b[39m \u001b[39m \u001b[39m \u001b[39m \u001b[39m▃\u001b[39m█\u001b[34m▆\u001b[39m\u001b[39m▄\u001b[39m▄\u001b[39m▂\u001b[39m▁\u001b[39m \u001b[39m \n",
       "  \u001b[39m▄\u001b[39m▁\u001b[39m▁\u001b[39m▁\u001b[39m▁\u001b[39m▁\u001b[39m▁\u001b[39m▁\u001b[39m▁\u001b[39m▁\u001b[39m▁\u001b[39m▁\u001b[39m▁\u001b[39m▁\u001b[39m▁\u001b[39m▁\u001b[39m▁\u001b[39m▁\u001b[39m▁\u001b[39m▁\u001b[39m▁\u001b[39m▁\u001b[39m▁\u001b[39m▁\u001b[39m▁\u001b[39m▁\u001b[39m▁\u001b[39m▆\u001b[39m█\u001b[39m▅\u001b[39m▁\u001b[39m▁\u001b[39m▁\u001b[39m▁\u001b[39m▁\u001b[39m▁\u001b[39m▁\u001b[39m▁\u001b[39m▁\u001b[39m▁\u001b[39m▁\u001b[39m▁\u001b[39m▁\u001b[39m▁\u001b[39m▁\u001b[39m▁\u001b[39m▁\u001b[39m▁\u001b[39m▁\u001b[39m▁\u001b[39m▁\u001b[39m▁\u001b[39m▆\u001b[39m▇\u001b[39m█\u001b[39m█\u001b[34m█\u001b[39m\u001b[39m█\u001b[39m█\u001b[39m█\u001b[39m█\u001b[39m \u001b[39m█\n",
       "  272 μs\u001b[90m        \u001b[39m\u001b[90mHistogram: \u001b[39m\u001b[90m\u001b[1mlog(\u001b[22m\u001b[39m\u001b[90mfrequency\u001b[39m\u001b[90m\u001b[1m)\u001b[22m\u001b[39m\u001b[90m by time\u001b[39m       2.53 ms \u001b[0m\u001b[1m<\u001b[22m\n",
       "\n",
       " Memory estimate\u001b[90m: \u001b[39m\u001b[33m14.11 KiB\u001b[39m, allocs estimate\u001b[90m: \u001b[39m\u001b[33m278\u001b[39m."
      ]
     },
     "execution_count": 27,
     "metadata": {},
     "output_type": "execute_result"
    }
   ],
   "source": [
    "@benchmark sum(a; dims=2)"
   ]
  },
  {
   "cell_type": "markdown",
   "id": "6b9e6f64",
   "metadata": {},
   "source": [
    "In other cases, the operation will just refuse the compile because very few array operations are supported in actual device code:"
   ]
  },
  {
   "cell_type": "code",
   "execution_count": 28,
   "id": "0ab631a5",
   "metadata": {},
   "outputs": [
    {
     "ename": "LoadError",
     "evalue": "GPU compilation of kernel broadcast_kernel(AMDGPU.ROCKernelContext, ROCDeviceMatrix{Float32, 1}, Base.Broadcast.Broadcasted{Nothing, Tuple{Base.OneTo{Int64}, Base.OneTo{Int64}}, var\"#11#12\", Tuple{Base.Broadcast.Extruded{ROCDeviceMatrix{Float32, 1}, Tuple{Bool, Bool}, Tuple{Int64, Int64}}, Base.Broadcast.Extruded{Vector{ROCVector{Float32}}, Tuple{Bool}, Tuple{Int64}}}}, Int64) failed\nKernelError: passing and using non-bitstype argument\n\nArgument 4 to your kernel function is of type Base.Broadcast.Broadcasted{Nothing, Tuple{Base.OneTo{Int64}, Base.OneTo{Int64}}, var\"#11#12\", Tuple{Base.Broadcast.Extruded{ROCDeviceMatrix{Float32, 1}, Tuple{Bool, Bool}, Tuple{Int64, Int64}}, Base.Broadcast.Extruded{Vector{ROCVector{Float32}}, Tuple{Bool}, Tuple{Int64}}}}, which is not isbits:\n  .args is of type Tuple{Base.Broadcast.Extruded{ROCDeviceMatrix{Float32, 1}, Tuple{Bool, Bool}, Tuple{Int64, Int64}}, Base.Broadcast.Extruded{Vector{ROCVector{Float32}}, Tuple{Bool}, Tuple{Int64}}} which is not isbits.\n    .2 is of type Base.Broadcast.Extruded{Vector{ROCVector{Float32}}, Tuple{Bool}, Tuple{Int64}} which is not isbits.\n      .x is of type Vector{ROCVector{Float32}} which is not isbits.\n\n",
     "output_type": "error",
     "traceback": [
      "GPU compilation of kernel broadcast_kernel(AMDGPU.ROCKernelContext, ROCDeviceMatrix{Float32, 1}, Base.Broadcast.Broadcasted{Nothing, Tuple{Base.OneTo{Int64}, Base.OneTo{Int64}}, var\"#11#12\", Tuple{Base.Broadcast.Extruded{ROCDeviceMatrix{Float32, 1}, Tuple{Bool, Bool}, Tuple{Int64, Int64}}, Base.Broadcast.Extruded{Vector{ROCVector{Float32}}, Tuple{Bool}, Tuple{Int64}}}}, Int64) failed\nKernelError: passing and using non-bitstype argument\n\nArgument 4 to your kernel function is of type Base.Broadcast.Broadcasted{Nothing, Tuple{Base.OneTo{Int64}, Base.OneTo{Int64}}, var\"#11#12\", Tuple{Base.Broadcast.Extruded{ROCDeviceMatrix{Float32, 1}, Tuple{Bool, Bool}, Tuple{Int64, Int64}}, Base.Broadcast.Extruded{Vector{ROCVector{Float32}}, Tuple{Bool}, Tuple{Int64}}}}, which is not isbits:\n  .args is of type Tuple{Base.Broadcast.Extruded{ROCDeviceMatrix{Float32, 1}, Tuple{Bool, Bool}, Tuple{Int64, Int64}}, Base.Broadcast.Extruded{Vector{ROCVector{Float32}}, Tuple{Bool}, Tuple{Int64}}} which is not isbits.\n    .2 is of type Base.Broadcast.Extruded{Vector{ROCVector{Float32}}, Tuple{Bool}, Tuple{Int64}} which is not isbits.\n      .x is of type Vector{ROCVector{Float32}} which is not isbits.\n\n",
      "",
      "Stacktrace:",
      "  [1] check_invocation(job::GPUCompiler.CompilerJob)",
      "    @ GPUCompiler ~/.julia/packages/GPUCompiler/wHjqZ/src/validation.jl:66",
      "  [2] macro expansion",
      "    @ ~/.julia/packages/GPUCompiler/wHjqZ/src/driver.jl:318 [inlined]",
      "  [3] macro expansion",
      "    @ ~/.julia/packages/TimerOutputs/ZQ0rt/src/TimerOutput.jl:236 [inlined]",
      "  [4] macro expansion",
      "    @ ~/.julia/packages/GPUCompiler/wHjqZ/src/driver.jl:317 [inlined]",
      "  [5] emit_asm(job::GPUCompiler.CompilerJob, ir::LLVM.Module; strip::Bool, validate::Bool, format::LLVM.API.LLVMCodeGenFileType)",
      "    @ GPUCompiler ~/.julia/packages/GPUCompiler/wHjqZ/src/utils.jl:62",
      "  [6] rocfunction_compile(job::GPUCompiler.CompilerJob)",
      "    @ AMDGPU ~/.julia/packages/AMDGPU/YXDXx/src/execution.jl:320",
      "  [7] cached_compilation(cache::Dict{UInt64, Any}, job::GPUCompiler.CompilerJob, compiler::typeof(AMDGPU.rocfunction_compile), linker::typeof(AMDGPU.rocfunction_link))",
      "    @ GPUCompiler ~/.julia/packages/GPUCompiler/wHjqZ/src/cache.jl:89",
      "  [8] rocfunction(f::Function, tt::Type; name::Nothing, device::AMDGPU.RuntimeDevice{HSAAgent}, global_hooks::NamedTuple{(), Tuple{}}, kwargs::Base.Iterators.Pairs{Union{}, Union{}, Tuple{}, NamedTuple{(), Tuple{}}})",
      "    @ AMDGPU ~/.julia/packages/AMDGPU/YXDXx/src/execution.jl:308",
      "  [9] rocfunction",
      "    @ ~/.julia/packages/AMDGPU/YXDXx/src/execution.jl:299 [inlined]",
      " [10] macro expansion",
      "    @ ~/.julia/packages/AMDGPU/YXDXx/src/execution.jl:192 [inlined]",
      " [11] gpu_call(::AMDGPU.ROCArrayBackend, f::Function, args::Tuple{ROCMatrix{Float32}, Base.Broadcast.Broadcasted{Nothing, Tuple{Base.OneTo{Int64}, Base.OneTo{Int64}}, var\"#11#12\", Tuple{Base.Broadcast.Extruded{ROCMatrix{Float32}, Tuple{Bool, Bool}, Tuple{Int64, Int64}}, Base.Broadcast.Extruded{Vector{ROCVector{Float32}}, Tuple{Bool}, Tuple{Int64}}}}, Int64}, threads::Int64, blocks::Int64; name::Nothing)",
      "    @ AMDGPU ~/.julia/packages/AMDGPU/YXDXx/src/array.jl:14",
      " [12] #gpu_call#1",
      "    @ ~/.julia/packages/GPUArrays/8dzSJ/src/device/execution.jl:67 [inlined]",
      " [13] copyto!",
      "    @ ~/.julia/packages/GPUArrays/8dzSJ/src/host/broadcast.jl:65 [inlined]",
      " [14] copyto!",
      "    @ ./broadcast.jl:936 [inlined]",
      " [15] copy",
      "    @ ~/.julia/packages/GPUArrays/8dzSJ/src/host/broadcast.jl:47 [inlined]",
      " [16] materialize",
      "    @ ./broadcast.jl:883 [inlined]",
      " [17] broadcast(::var\"#11#12\", ::ROCMatrix{Float32}, ::Base.Generator{Base.OneTo{Int64}, Base.var\"#193#194\"{ROCMatrix{Float32}}})",
      "    @ Base.Broadcast ./broadcast.jl:821",
      " [18] top-level scope",
      "    @ In[28]:1",
      " [19] eval",
      "    @ ./boot.jl:360 [inlined]",
      " [20] include_string(mapexpr::typeof(REPL.softscope), mod::Module, code::String, filename::String)",
      "    @ Base ./loading.jl:1094"
     ]
    }
   ],
   "source": [
    "broadcast(a, eachcol(a)) do x,Y\n",
    "    x + sum(Y)\n",
    "end"
   ]
  },
  {
   "cell_type": "markdown",
   "id": "aa648ecc",
   "metadata": {},
   "source": [
    "Tensor packages like Tullio.jl can help here, making it possible to express complex expressions in a way that can still get compiled to a single kernel (although it doesn't currently work with AMDGPU):"
   ]
  },
  {
   "cell_type": "code",
   "execution_count": 30,
   "id": "b6f4d0e6",
   "metadata": {},
   "outputs": [],
   "source": [
    "#Pkg.add([\"Tullio\", \"ROCKernels\", \"KernelAbstractions\"])\n",
    "#using Tullio\n",
    "using AMDGPU, ROCKernels, KernelAbstractions"
   ]
  },
  {
   "cell_type": "code",
   "execution_count": 31,
   "id": "d704655a",
   "metadata": {},
   "outputs": [],
   "source": [
    "# TODO: @tullio x[i,j] := a[i,j] + a[k,j]"
   ]
  },
  {
   "cell_type": "markdown",
   "id": "99f8f679",
   "metadata": {},
   "source": [
    "At some point you may need even more control, or better performance. For that, you can write your own kernels."
   ]
  },
  {
   "cell_type": "markdown",
   "id": "7dc4b62d",
   "metadata": {},
   "source": [
    "# Kernel programming"
   ]
  },
  {
   "cell_type": "markdown",
   "id": "b49ee0d3",
   "metadata": {},
   "source": [
    "Where array operations have implicit parallelism that AMDGPU.jl can use to execute the operation in parallel on your GPU, with kernels the programmer is responsible to apply the available parallel execution resources to the operation at hand.\n",
    "\n",
    "At a high level, that's pretty easy, you just need to write a scalar function and launch that function in parallel using the `@roc` macro and its `groupsize` keyword argument:"
   ]
  },
  {
   "cell_type": "code",
   "execution_count": 37,
   "id": "2d1764fb",
   "metadata": {},
   "outputs": [
    {
     "data": {
      "text/plain": [
       "10-element ROCVector{Int64}:\n",
       "  3\n",
       "  6\n",
       "  9\n",
       " 12\n",
       " 15\n",
       " 18\n",
       " 21\n",
       " 24\n",
       " 27\n",
       " 30"
      ]
     },
     "execution_count": 37,
     "metadata": {},
     "output_type": "execute_result"
    }
   ],
   "source": [
    "function vadd(c, a, b)\n",
    "    i = workitemIdx().x\n",
    "    c[i] = a[i] + b[i]\n",
    "    return\n",
    "end\n",
    "\n",
    "a = ROCArray(1:10)\n",
    "b = ROCArray(2:2:20)\n",
    "c = similar(a)\n",
    "wait(@roc groupsize=length(a) vadd(c, a, b))\n",
    "sleep(1)\n",
    "c"
   ]
  },
  {
   "cell_type": "markdown",
   "id": "66e4dc8a",
   "metadata": {},
   "source": [
    "But kernel programming quickly becomes much more tricky, because:\n",
    "- you need to respect hardware limitations\n",
    "- you need to efficiently use hardware resources\n",
    "- not every operation maps cleanly on a scalar kernel"
   ]
  },
  {
   "cell_type": "markdown",
   "id": "97a391af",
   "metadata": {},
   "source": [
    "## Hardware limitations"
   ]
  },
  {
   "cell_type": "markdown",
   "id": "736a5c2b",
   "metadata": {},
   "source": [
    "For example, let's run our `vadd` kernel on a larger array:"
   ]
  },
  {
   "cell_type": "code",
   "execution_count": 38,
   "id": "40d4a3fd",
   "metadata": {},
   "outputs": [
    {
     "ename": "LoadError",
     "evalue": "ArgumentError: Group dimensions too large",
     "output_type": "error",
     "traceback": [
      "ArgumentError: Group dimensions too large",
      "",
      "Stacktrace:",
      "  [1] launch",
      "    @ ~/.julia/packages/AMDGPU/YXDXx/src/execution_utils.jl:159 [inlined]",
      "  [2] macro expansion",
      "    @ ~/.julia/packages/AMDGPU/YXDXx/src/execution_utils.jl:131 [inlined]",
      "  [3] roccall(::ROCFunction, ::Type{Tuple{ROCDeviceVector{Int64, 1}, ROCDeviceVector{Int64, 1}, ROCDeviceVector{Int64, 1}}}, ::ROCDeviceVector{Int64, 1}, ::ROCDeviceVector{Int64, 1}, ::ROCDeviceVector{Int64, 1}; queue::AMDGPU.RuntimeQueue{HSAQueue}, signal::AMDGPU.RuntimeEvent{AMDGPU.HSAStatusSignal}, groupsize::Int64, gridsize::Int64)",
      "    @ AMDGPU ~/.julia/packages/AMDGPU/YXDXx/src/execution_utils.jl:109",
      "  [4] #roccall#216",
      "    @ ~/.julia/packages/AMDGPU/YXDXx/src/execution.jl:276 [inlined]",
      "  [5] macro expansion",
      "    @ ~/.julia/packages/AMDGPU/YXDXx/src/execution.jl:257 [inlined]",
      "  [6] call(::AMDGPU.HostKernel{vadd, Tuple{ROCDeviceVector{Int64, 1}, ROCDeviceVector{Int64, 1}, ROCDeviceVector{Int64, 1}}}, ::ROCDeviceVector{Int64, 1}, ::ROCDeviceVector{Int64, 1}, ::ROCDeviceVector{Int64, 1}; call_kwargs::Base.Iterators.Pairs{Symbol, Any, Tuple{Symbol, Symbol}, NamedTuple{(:signal, :groupsize), Tuple{AMDGPU.RuntimeEvent{AMDGPU.HSAStatusSignal}, Int64}}})",
      "    @ AMDGPU ~/.julia/packages/AMDGPU/YXDXx/src/execution.jl:233",
      "  [7] (::AMDGPU.HostKernel{vadd, Tuple{ROCDeviceVector{Int64, 1}, ROCDeviceVector{Int64, 1}, ROCDeviceVector{Int64, 1}}})(::ROCDeviceVector{Int64, 1}, ::Vararg{ROCDeviceVector{Int64, 1}, N} where N; kwargs::Base.Iterators.Pairs{Symbol, Any, Tuple{Symbol, Symbol}, NamedTuple{(:signal, :groupsize), Tuple{AMDGPU.RuntimeEvent{AMDGPU.HSAStatusSignal}, Int64}}})",
      "    @ AMDGPU ~/.julia/packages/AMDGPU/YXDXx/src/execution.jl:433",
      "  [8] top-level scope",
      "    @ ~/.julia/packages/AMDGPU/YXDXx/src/execution.jl:196",
      "  [9] eval",
      "    @ ./boot.jl:360 [inlined]",
      " [10] include_string(mapexpr::typeof(REPL.softscope), mod::Module, code::String, filename::String)",
      "    @ Base ./loading.jl:1094"
     ]
    }
   ],
   "source": [
    "a = ROCArray(1:100000)\n",
    "b = ROCArray(2:2:200000)\n",
    "c = similar(a)\n",
    "wait(@roc groupsize=length(a) vadd(c, a, b))"
   ]
  },
  {
   "cell_type": "markdown",
   "id": "6929b2aa",
   "metadata": {},
   "source": [
    "The reason this fails is due to launching too many threads:"
   ]
  },
  {
   "cell_type": "code",
   "execution_count": 39,
   "id": "ed8335e6",
   "metadata": {},
   "outputs": [
    {
     "data": {
      "text/plain": [
       "1024"
      ]
     },
     "execution_count": 39,
     "metadata": {},
     "output_type": "execute_result"
    }
   ],
   "source": [
    "Int(AMDGPU.max_group_size(first(AMDGPU.isas(get_default_agent()))))"
   ]
  },
  {
   "cell_type": "markdown",
   "id": "780489f1",
   "metadata": {},
   "source": [
    "Instead, we need to launch multiple so-call *workgroups* and adapt our kernel index calculation:"
   ]
  },
  {
   "cell_type": "code",
   "execution_count": 40,
   "id": "7f66ca95",
   "metadata": {},
   "outputs": [
    {
     "data": {
      "text/plain": [
       "100000-element ROCVector{Int64}:\n",
       "      3\n",
       "      6\n",
       "      9\n",
       "     12\n",
       "     15\n",
       "     18\n",
       "     21\n",
       "     24\n",
       "     27\n",
       "     30\n",
       "     33\n",
       "     36\n",
       "     39\n",
       "      ⋮\n",
       " 299967\n",
       " 299970\n",
       " 299973\n",
       " 299976\n",
       " 299979\n",
       " 299982\n",
       " 299985\n",
       " 299988\n",
       " 299991\n",
       " 299994\n",
       " 299997\n",
       " 300000"
      ]
     },
     "execution_count": 40,
     "metadata": {},
     "output_type": "execute_result"
    }
   ],
   "source": [
    "function vadd(c, a, b)\n",
    "    i = workitemIdx().x + (workgroupIdx().x - 1) * workgroupDim().x\n",
    "    if i <= length(a)\n",
    "        c[i] = a[i] + b[i]\n",
    "    end\n",
    "    return\n",
    "end\n",
    "wait(@roc groupsize=1024 gridsize=length(a) vadd(c, a, b))\n",
    "c"
   ]
  },
  {
   "cell_type": "markdown",
   "id": "75a720ac",
   "metadata": {},
   "source": [
    "### Occupancy API"
   ]
  },
  {
   "cell_type": "markdown",
   "id": "7099acdd",
   "metadata": {},
   "source": [
    "Hard-coding a limit of 1024 threads, or even looking up the device limit, is insufficient. In reality, maximum number of threads you can launch also depends on the kernel, and how many hardware resources it uses.\n",
    "\n",
    "I'd appreciate any help figuring out how to expose the occupancy API in the HIP library, or even writing one from scratch!"
   ]
  },
  {
   "cell_type": "markdown",
   "id": "9d6c08c9",
   "metadata": {},
   "source": [
    "## Parallel programming"
   ]
  },
  {
   "cell_type": "markdown",
   "id": "3558b5fb",
   "metadata": {},
   "source": [
    "Another problem with GPU programming is that not all operations map cleanly onto scalar kernels. As a simple example, let's try and implement a kernel that reduces all the values in an array according to a given operation.\n",
    "\n",
    "### Naive loop\n",
    "\n",
    "You might start off with a simple `for` loop doing the reduction on the GPU as you would on the CPU:"
   ]
  },
  {
   "cell_type": "code",
   "execution_count": 41,
   "id": "22fec8e5",
   "metadata": {},
   "outputs": [
    {
     "data": {
      "text/plain": [
       "16"
      ]
     },
     "execution_count": 41,
     "metadata": {},
     "output_type": "execute_result"
    }
   ],
   "source": [
    "function reduce_singlethread(op, a, b)\n",
    "    for i in 1:length(a)\n",
    "        b[] = op(b[], a[i])\n",
    "    end\n",
    "    return\n",
    "end\n",
    "\n",
    "a = ROCArray(1:16)\n",
    "b = ROCArray([0])\n",
    "wait(@roc groupsize=1 reduce_singlethread(+, a, b))\n",
    "AMDGPU.@allowscalar b[] # TODO: This is broken!"
   ]
  },
  {
   "cell_type": "code",
   "execution_count": 42,
   "id": "a216cee7",
   "metadata": {},
   "outputs": [
    {
     "data": {
      "text/plain": [
       "136"
      ]
     },
     "execution_count": 42,
     "metadata": {},
     "output_type": "execute_result"
    }
   ],
   "source": [
    "# just to be sure\n",
    "sum(1:16)"
   ]
  },
  {
   "cell_type": "code",
   "execution_count": 58,
   "id": "cc5de2ce",
   "metadata": {},
   "outputs": [
    {
     "data": {
      "text/plain": [
       "BenchmarkTools.Trial: 17 samples with 1 evaluation.\n",
       " Range \u001b[90m(\u001b[39m\u001b[36m\u001b[1mmin\u001b[22m\u001b[39m … \u001b[35mmax\u001b[39m\u001b[90m):  \u001b[39m\u001b[36m\u001b[1m276.655 ms\u001b[22m\u001b[39m … \u001b[35m315.992 ms\u001b[39m  \u001b[90m┊\u001b[39m GC \u001b[90m(\u001b[39mmin … max\u001b[90m): \u001b[39m0.00% … 0.00%\n",
       " Time  \u001b[90m(\u001b[39m\u001b[34m\u001b[1mmedian\u001b[22m\u001b[39m\u001b[90m):     \u001b[39m\u001b[34m\u001b[1m297.462 ms               \u001b[22m\u001b[39m\u001b[90m┊\u001b[39m GC \u001b[90m(\u001b[39mmedian\u001b[90m):    \u001b[39m0.00%\n",
       " Time  \u001b[90m(\u001b[39m\u001b[32m\u001b[1mmean\u001b[22m\u001b[39m ± \u001b[32mσ\u001b[39m\u001b[90m):   \u001b[39m\u001b[32m\u001b[1m295.198 ms\u001b[22m\u001b[39m ± \u001b[32m 13.165 ms\u001b[39m  \u001b[90m┊\u001b[39m GC \u001b[90m(\u001b[39mmean ± σ\u001b[90m):  \u001b[39m0.00% ± 0.00%\n",
       "\n",
       "  \u001b[39m█\u001b[39m \u001b[39m \u001b[39m \u001b[39m \u001b[39m \u001b[39m▁\u001b[39m \u001b[39m \u001b[39m \u001b[39m \u001b[39m▁\u001b[39m▁\u001b[39m \u001b[39m▁\u001b[39m \u001b[39m \u001b[39m \u001b[39m▁\u001b[34m▁\u001b[39m\u001b[39m \u001b[39m \u001b[39m \u001b[39m \u001b[39m \u001b[39m \u001b[39m \u001b[39m \u001b[39m \u001b[32m \u001b[39m\u001b[39m \u001b[39m \u001b[39m▁\u001b[39m▁\u001b[39m█\u001b[39m \u001b[39m \u001b[39m \u001b[39m \u001b[39m▁\u001b[39m \u001b[39m \u001b[39m \u001b[39m \u001b[39m \u001b[39m \u001b[39m \u001b[39m \u001b[39m \u001b[39m \u001b[39m \u001b[39m \u001b[39m▁\u001b[39m \u001b[39m \u001b[39m \u001b[39m \u001b[39m▁\u001b[39m \u001b[39m▁\u001b[39m▁\u001b[39m \u001b[39m \n",
       "  \u001b[39m█\u001b[39m▁\u001b[39m▁\u001b[39m▁\u001b[39m▁\u001b[39m▁\u001b[39m█\u001b[39m▁\u001b[39m▁\u001b[39m▁\u001b[39m▁\u001b[39m█\u001b[39m█\u001b[39m▁\u001b[39m█\u001b[39m▁\u001b[39m▁\u001b[39m▁\u001b[39m█\u001b[34m█\u001b[39m\u001b[39m▁\u001b[39m▁\u001b[39m▁\u001b[39m▁\u001b[39m▁\u001b[39m▁\u001b[39m▁\u001b[39m▁\u001b[39m▁\u001b[32m▁\u001b[39m\u001b[39m▁\u001b[39m▁\u001b[39m█\u001b[39m█\u001b[39m█\u001b[39m▁\u001b[39m▁\u001b[39m▁\u001b[39m▁\u001b[39m█\u001b[39m▁\u001b[39m▁\u001b[39m▁\u001b[39m▁\u001b[39m▁\u001b[39m▁\u001b[39m▁\u001b[39m▁\u001b[39m▁\u001b[39m▁\u001b[39m▁\u001b[39m▁\u001b[39m█\u001b[39m▁\u001b[39m▁\u001b[39m▁\u001b[39m▁\u001b[39m█\u001b[39m▁\u001b[39m█\u001b[39m█\u001b[39m \u001b[39m▁\n",
       "  277 ms\u001b[90m           Histogram: frequency by time\u001b[39m          316 ms \u001b[0m\u001b[1m<\u001b[22m\n",
       "\n",
       " Memory estimate\u001b[90m: \u001b[39m\u001b[33m113.55 KiB\u001b[39m, allocs estimate\u001b[90m: \u001b[39m\u001b[33m3907\u001b[39m."
      ]
     },
     "execution_count": 58,
     "metadata": {},
     "output_type": "execute_result"
    }
   ],
   "source": [
    "@benchmark wait(@roc groupsize=1 reduce_singlethread(+, $(AMDGPU.rand(Int, 1024*1024)), $(AMDGPU.zeros(Int, 1))))"
   ]
  },
  {
   "cell_type": "markdown",
   "id": "07418abc",
   "metadata": {},
   "source": [
    "This is a bad implementation though! It only uses a single thread, defeating the point of using a GPU with its thousands of threads.\n",
    "\n",
    "### Atomics\n",
    "\n",
    "To benefit from the GPU, we *need* to launch multiple threads. Since that would trample over the output value, we could try and use atomics:"
   ]
  },
  {
   "cell_type": "code",
   "execution_count": 49,
   "id": "dd04f6e4",
   "metadata": {},
   "outputs": [
    {
     "data": {
      "text/plain": [
       "136"
      ]
     },
     "execution_count": 49,
     "metadata": {},
     "output_type": "execute_result"
    }
   ],
   "source": [
    "function reduce_atomic(op, a, b)\n",
    "    i = workitemIdx().x + (workgroupIdx().x - 1) * workgroupDim().x\n",
    "    @atomic b[1] = op(b[1], a[i])\n",
    "    return\n",
    "end\n",
    "\n",
    "a = ROCArray(1:16)\n",
    "b = ROCArray([0])\n",
    "wait(@roc groupsize=length(a) reduce_atomic(+, a, b))\n",
    "AMDGPU.@allowscalar b[]"
   ]
  },
  {
   "cell_type": "code",
   "execution_count": 57,
   "id": "50cd526a",
   "metadata": {},
   "outputs": [
    {
     "data": {
      "text/plain": [
       "BenchmarkTools.Trial: 2234 samples with 1 evaluation.\n",
       " Range \u001b[90m(\u001b[39m\u001b[36m\u001b[1mmin\u001b[22m\u001b[39m … \u001b[35mmax\u001b[39m\u001b[90m):  \u001b[39m\u001b[36m\u001b[1m1.195 ms\u001b[22m\u001b[39m … \u001b[35m  2.843 ms\u001b[39m  \u001b[90m┊\u001b[39m GC \u001b[90m(\u001b[39mmin … max\u001b[90m): \u001b[39m0.00% … 0.00%\n",
       " Time  \u001b[90m(\u001b[39m\u001b[34m\u001b[1mmedian\u001b[22m\u001b[39m\u001b[90m):     \u001b[39m\u001b[34m\u001b[1m2.238 ms               \u001b[22m\u001b[39m\u001b[90m┊\u001b[39m GC \u001b[90m(\u001b[39mmedian\u001b[90m):    \u001b[39m0.00%\n",
       " Time  \u001b[90m(\u001b[39m\u001b[32m\u001b[1mmean\u001b[22m\u001b[39m ± \u001b[32mσ\u001b[39m\u001b[90m):   \u001b[39m\u001b[32m\u001b[1m2.230 ms\u001b[22m\u001b[39m ± \u001b[32m176.707 μs\u001b[39m  \u001b[90m┊\u001b[39m GC \u001b[90m(\u001b[39mmean ± σ\u001b[90m):  \u001b[39m0.00% ± 0.00%\n",
       "\n",
       "  \u001b[39m \u001b[39m \u001b[39m \u001b[39m \u001b[39m \u001b[39m \u001b[39m \u001b[39m \u001b[39m \u001b[39m \u001b[39m \u001b[39m \u001b[39m \u001b[39m \u001b[39m \u001b[39m \u001b[39m \u001b[39m \u001b[39m \u001b[39m \u001b[39m \u001b[39m \u001b[39m \u001b[39m \u001b[39m \u001b[39m \u001b[39m \u001b[39m \u001b[39m \u001b[39m \u001b[39m \u001b[39m \u001b[39m \u001b[39m \u001b[39m \u001b[39m \u001b[39m \u001b[39m \u001b[39m \u001b[39m \u001b[39m \u001b[39m \u001b[39m \u001b[39m \u001b[39m \u001b[39m \u001b[39m \u001b[39m \u001b[39m█\u001b[39m▃\u001b[34m \u001b[39m\u001b[39m▂\u001b[39m \u001b[39m \u001b[39m \u001b[39m \u001b[39m \u001b[39m \u001b[39m \u001b[39m \u001b[39m \n",
       "  \u001b[39m▂\u001b[39m▃\u001b[39m▂\u001b[39m▂\u001b[39m▂\u001b[39m▂\u001b[39m▁\u001b[39m▁\u001b[39m▁\u001b[39m▁\u001b[39m▁\u001b[39m▁\u001b[39m▁\u001b[39m▁\u001b[39m▁\u001b[39m▁\u001b[39m▁\u001b[39m▁\u001b[39m▁\u001b[39m▁\u001b[39m▁\u001b[39m▁\u001b[39m▁\u001b[39m▁\u001b[39m▁\u001b[39m▁\u001b[39m▁\u001b[39m▁\u001b[39m▁\u001b[39m▁\u001b[39m▁\u001b[39m▁\u001b[39m▁\u001b[39m▁\u001b[39m▁\u001b[39m▁\u001b[39m▁\u001b[39m▁\u001b[39m▁\u001b[39m▁\u001b[39m▁\u001b[39m▁\u001b[39m▁\u001b[39m▁\u001b[39m▂\u001b[39m▂\u001b[39m▃\u001b[39m▄\u001b[39m█\u001b[39m█\u001b[34m▅\u001b[39m\u001b[39m█\u001b[39m▇\u001b[39m▅\u001b[39m▅\u001b[39m▄\u001b[39m▄\u001b[39m▃\u001b[39m▃\u001b[39m \u001b[39m▃\n",
       "  1.2 ms\u001b[90m          Histogram: frequency by time\u001b[39m        2.42 ms \u001b[0m\u001b[1m<\u001b[22m\n",
       "\n",
       " Memory estimate\u001b[90m: \u001b[39m\u001b[33m6.62 KiB\u001b[39m, allocs estimate\u001b[90m: \u001b[39m\u001b[33m145\u001b[39m."
      ]
     },
     "execution_count": 57,
     "metadata": {},
     "output_type": "execute_result"
    }
   ],
   "source": [
    "@benchmark wait(@roc groupsize=1024 gridsize=1024*1024 reduce_atomic(+, $(AMDGPU.rand(Int, 1024*1024)), $(AMDGPU.zeros(Int, 1))))"
   ]
  },
  {
   "cell_type": "markdown",
   "id": "ce9ff3d8",
   "metadata": {},
   "source": [
    "This still isn't great though: Atomic operations are expensive, and result in serialization of execution.\n",
    "\n",
    "### Parallel block reduction\n",
    "\n",
    "We really want a kind of parallel reduction where threads can indepedently perform computations, only to synchronize when absolutely necessary. One possible such parallel strategy looks as follows:"
   ]
  },
  {
   "attachments": {
    "image.png": {
     "image/png": "[encoded data removed]"
    }
   },
   "cell_type": "markdown",
   "id": "fdcc76f5",
   "metadata": {},
   "source": [
    "<div>\n",
    "<img src=\"attachment:image.png\" width=\"500\"/>\n",
    "</div>"
   ]
  },
  {
   "cell_type": "markdown",
   "id": "6f86e36d",
   "metadata": {},
   "source": [
    "These kinds of parallel algorithms can be tricky to implement though, so let's start with a single-block version:"
   ]
  },
  {
   "cell_type": "code",
   "execution_count": 52,
   "id": "5c35918c",
   "metadata": {},
   "outputs": [
    {
     "name": "stdout",
     "output_type": "stream",
     "text": [
      "thread 8: a[15] + a[16] = 15 + 16 = 31\n",
      "\n",
      "thread 4: a[13] + a[15] = 27 + 31 = 58\n",
      "\n",
      "thread 2: a[9] + a[13] = 42 + 58 = 100\n",
      "\n",
      "thread 1: a[1] + a[9] = 36 + 100 = 136\n",
      "\n"
     ]
    },
    {
     "data": {
      "text/plain": [
       "136"
      ]
     },
     "execution_count": 52,
     "metadata": {},
     "output_type": "execute_result"
    }
   ],
   "source": [
    "function reduce_block(op, a, b)\n",
    "    elements = workgroupDim().x*2\n",
    "    thread = workitemIdx().x\n",
    "\n",
    "    # parallel reduction of values in a block\n",
    "    d = 1\n",
    "    while d < elements\n",
    "        sync_workgroup()\n",
    "        index = 2 * d * (thread-1) + 1\n",
    "        @inbounds if index <= elements && index+d <= length(a)\n",
    "            @rocprintf(\"thread %d: a[%d] + a[%d] = %d + %d = %d\\n\", thread, index, index+d, a[index], a[index+d], op(a[index], a[index+d]))\n",
    "            a[index] = op(a[index], a[index+d])\n",
    "        end\n",
    "        d *= 2\n",
    "        thread == 1 && @rocprintf(\"\\n\")\n",
    "    end\n",
    "    \n",
    "    if thread == 1\n",
    "        b[] = a[1]\n",
    "    end\n",
    "    \n",
    "    return\n",
    "end\n",
    "\n",
    "a = ROCArray(1:16)\n",
    "b = ROCArray([0])\n",
    "wait(@roc groupsize=cld(length(a),2) reduce_block(+, a, b))\n",
    "AMDGPU.@allowscalar b[]"
   ]
  },
  {
   "cell_type": "markdown",
   "id": "4a01296a",
   "metadata": {},
   "source": [
    "Now let's extend that to a reduction of the entire array (with more elements than fit in a single block) using a simple `for` loop that first reduces across blocks. Such loops aren't always bad: Here, the loop is executed by all threads, in parallel, so we don't throw away the parallel nature of the GPU:"
   ]
  },
  {
   "cell_type": "code",
   "execution_count": 54,
   "id": "db7860f9",
   "metadata": {},
   "outputs": [
    {
     "data": {
      "text/plain": [
       "136"
      ]
     },
     "execution_count": 54,
     "metadata": {},
     "output_type": "execute_result"
    }
   ],
   "source": [
    "function reduce_grid(op, a, b)\n",
    "    elements = workgroupDim().x*2\n",
    "    thread = workitemIdx().x\n",
    "    \n",
    "    # serial reduction of values across blocks\n",
    "    i = thread+elements\n",
    "    while i <= length(a)\n",
    "        a[thread] = op(a[thread], a[i])\n",
    "        i += elements\n",
    "    end\n",
    "\n",
    "    # parallel reduction of values in a block\n",
    "    d = 1\n",
    "    while d < elements\n",
    "        sync_workgroup()\n",
    "        index = 2 * d * (thread-1) + 1\n",
    "        @inbounds if index <= elements && index+d <= length(a)\n",
    "            a[index] = op(a[index], a[index+d])\n",
    "        end\n",
    "        d *= 2\n",
    "    end\n",
    "    \n",
    "    if thread == 1\n",
    "        b[] = a[1]\n",
    "    end\n",
    "    \n",
    "    return\n",
    "end\n",
    "\n",
    "a = ROCArray(1:16)\n",
    "b = ROCArray([0])\n",
    "wait(@roc groupsize=cld(length(a),2) reduce_grid(+, a, b))\n",
    "AMDGPU.@allowscalar b[]"
   ]
  },
  {
   "cell_type": "code",
   "execution_count": 59,
   "id": "fb68a87f",
   "metadata": {},
   "outputs": [
    {
     "data": {
      "text/plain": [
       "BenchmarkTools.Trial: 2236 samples with 1 evaluation.\n",
       " Range \u001b[90m(\u001b[39m\u001b[36m\u001b[1mmin\u001b[22m\u001b[39m … \u001b[35mmax\u001b[39m\u001b[90m):  \u001b[39m\u001b[36m\u001b[1m1.252 ms\u001b[22m\u001b[39m … \u001b[35m 2.753 ms\u001b[39m  \u001b[90m┊\u001b[39m GC \u001b[90m(\u001b[39mmin … max\u001b[90m): \u001b[39m0.00% … 0.00%\n",
       " Time  \u001b[90m(\u001b[39m\u001b[34m\u001b[1mmedian\u001b[22m\u001b[39m\u001b[90m):     \u001b[39m\u001b[34m\u001b[1m2.215 ms              \u001b[22m\u001b[39m\u001b[90m┊\u001b[39m GC \u001b[90m(\u001b[39mmedian\u001b[90m):    \u001b[39m0.00%\n",
       " Time  \u001b[90m(\u001b[39m\u001b[32m\u001b[1mmean\u001b[22m\u001b[39m ± \u001b[32mσ\u001b[39m\u001b[90m):   \u001b[39m\u001b[32m\u001b[1m2.232 ms\u001b[22m\u001b[39m ± \u001b[32m87.541 μs\u001b[39m  \u001b[90m┊\u001b[39m GC \u001b[90m(\u001b[39mmean ± σ\u001b[90m):  \u001b[39m0.00% ± 0.00%\n",
       "\n",
       "  \u001b[39m \u001b[39m \u001b[39m \u001b[39m \u001b[39m \u001b[39m \u001b[39m \u001b[39m \u001b[39m \u001b[39m \u001b[39m \u001b[39m \u001b[39m \u001b[39m \u001b[39m \u001b[39m \u001b[39m \u001b[39m \u001b[39m \u001b[39m \u001b[39m \u001b[39m \u001b[39m \u001b[39m \u001b[39m \u001b[39m \u001b[39m \u001b[39m \u001b[39m \u001b[39m \u001b[39m \u001b[39m \u001b[39m \u001b[39m \u001b[39m \u001b[39m \u001b[39m \u001b[39m \u001b[39m \u001b[39m \u001b[39m \u001b[39m \u001b[39m \u001b[39m \u001b[39m \u001b[39m \u001b[39m█\u001b[34m \u001b[39m\u001b[32m \u001b[39m\u001b[39m \u001b[39m \u001b[39m \u001b[39m \u001b[39m \u001b[39m \u001b[39m \u001b[39m \u001b[39m \u001b[39m \u001b[39m \n",
       "  \u001b[39m▂\u001b[39m▂\u001b[39m▁\u001b[39m▂\u001b[39m▁\u001b[39m▂\u001b[39m▁\u001b[39m▁\u001b[39m▁\u001b[39m▁\u001b[39m▁\u001b[39m▁\u001b[39m▁\u001b[39m▁\u001b[39m▁\u001b[39m▁\u001b[39m▁\u001b[39m▁\u001b[39m▁\u001b[39m▁\u001b[39m▁\u001b[39m▁\u001b[39m▁\u001b[39m▁\u001b[39m▁\u001b[39m▁\u001b[39m▁\u001b[39m▁\u001b[39m▁\u001b[39m▁\u001b[39m▁\u001b[39m▁\u001b[39m▁\u001b[39m▁\u001b[39m▁\u001b[39m▁\u001b[39m▁\u001b[39m▁\u001b[39m▁\u001b[39m▁\u001b[39m▁\u001b[39m▁\u001b[39m▁\u001b[39m█\u001b[39m█\u001b[39m▅\u001b[39m█\u001b[34m▆\u001b[39m\u001b[32m▅\u001b[39m\u001b[39m▆\u001b[39m▃\u001b[39m▄\u001b[39m▃\u001b[39m▃\u001b[39m▄\u001b[39m▃\u001b[39m▃\u001b[39m▃\u001b[39m \u001b[39m▂\n",
       "  1.25 ms\u001b[90m        Histogram: frequency by time\u001b[39m        2.45 ms \u001b[0m\u001b[1m<\u001b[22m\n",
       "\n",
       " Memory estimate\u001b[90m: \u001b[39m\u001b[33m6.52 KiB\u001b[39m, allocs estimate\u001b[90m: \u001b[39m\u001b[33m142\u001b[39m."
      ]
     },
     "execution_count": 59,
     "metadata": {},
     "output_type": "execute_result"
    }
   ],
   "source": [
    "@benchmark wait(@roc groupsize=1024 reduce_grid(+, $(AMDGPU.rand(Int, 1024*1024)), $(AMDGPU.zeros(Int, 1))))"
   ]
  },
  {
   "cell_type": "markdown",
   "id": "7b063900",
   "metadata": {},
   "source": [
    "It should be quite a bit better (although it doesn't look like it because of a limit in the `wait` function), but not ideal since we're only launching a single workgroup now. That's still underutilizing the GPU, which needs multiple workgroups so that it can switch between them to hide latency.\n",
    "\n",
    "\n",
    "### Atomic grid reduction\n",
    "\n",
    "If we want to launch multiple workgroups performing block reduction in parallel, we need a way to reduce the resulting value from each block. Sadly, we can't perform that step in parallel: Workgroups are independent, and may not even run at the same time, so we can't synchronize between threads from different workgroups.\n",
    "\n",
    "However, going back to the beginning, we can use atomics to directly write to the output from each workgroup:"
   ]
  },
  {
   "cell_type": "code",
   "execution_count": 62,
   "id": "12fbb180",
   "metadata": {},
   "outputs": [
    {
     "data": {
      "text/plain": [
       "36"
      ]
     },
     "execution_count": 62,
     "metadata": {},
     "output_type": "execute_result"
    }
   ],
   "source": [
    "function reduce_grid_atomic(op, a, b)\n",
    "    elements = workgroupDim().x*2\n",
    "    thread = workitemIdx().x\n",
    "    block = workgroupIdx().x\n",
    "    offset = (block-1) * elements\n",
    "\n",
    "    # parallel reduction of values in a block\n",
    "    d = 1\n",
    "    while d < elements\n",
    "        sync_workgroup()\n",
    "        index = 2 * d * (thread-1) + 1\n",
    "        @inbounds if index <= elements && offset+index+d <= length(a)\n",
    "            a[offset+index] = op(a[offset+index], a[offset+index+d])\n",
    "        end\n",
    "        d *= 2\n",
    "    end\n",
    "    \n",
    "    # atomic reduction of this block's value\n",
    "    if thread == 1\n",
    "        @atomic b[1] = op(b[1], a[offset + 1])\n",
    "    end\n",
    "    \n",
    "    return\n",
    "end\n",
    "\n",
    "a = ROCArray(1:16)\n",
    "b = ROCArray([0])\n",
    "wait(@roc groupsize=2 gridsize=4 reduce_grid_atomic(+, a, b))\n",
    "AMDGPU.@allowscalar b[]"
   ]
  },
  {
   "cell_type": "code",
   "execution_count": 61,
   "id": "0b426af7",
   "metadata": {},
   "outputs": [
    {
     "data": {
      "text/plain": [
       "BenchmarkTools.Trial: 2180 samples with 1 evaluation.\n",
       " Range \u001b[90m(\u001b[39m\u001b[36m\u001b[1mmin\u001b[22m\u001b[39m … \u001b[35mmax\u001b[39m\u001b[90m):  \u001b[39m\u001b[36m\u001b[1m1.248 ms\u001b[22m\u001b[39m … \u001b[35m  2.765 ms\u001b[39m  \u001b[90m┊\u001b[39m GC \u001b[90m(\u001b[39mmin … max\u001b[90m): \u001b[39m0.00% … 0.00%\n",
       " Time  \u001b[90m(\u001b[39m\u001b[34m\u001b[1mmedian\u001b[22m\u001b[39m\u001b[90m):     \u001b[39m\u001b[34m\u001b[1m2.264 ms               \u001b[22m\u001b[39m\u001b[90m┊\u001b[39m GC \u001b[90m(\u001b[39mmedian\u001b[90m):    \u001b[39m0.00%\n",
       " Time  \u001b[90m(\u001b[39m\u001b[32m\u001b[1mmean\u001b[22m\u001b[39m ± \u001b[32mσ\u001b[39m\u001b[90m):   \u001b[39m\u001b[32m\u001b[1m2.286 ms\u001b[22m\u001b[39m ± \u001b[32m144.728 μs\u001b[39m  \u001b[90m┊\u001b[39m GC \u001b[90m(\u001b[39mmean ± σ\u001b[90m):  \u001b[39m0.00% ± 0.00%\n",
       "\n",
       "  \u001b[39m \u001b[39m \u001b[39m \u001b[39m \u001b[39m \u001b[39m \u001b[39m \u001b[39m \u001b[39m \u001b[39m \u001b[39m \u001b[39m \u001b[39m \u001b[39m \u001b[39m \u001b[39m \u001b[39m \u001b[39m \u001b[39m \u001b[39m \u001b[39m \u001b[39m \u001b[39m \u001b[39m \u001b[39m \u001b[39m \u001b[39m \u001b[39m \u001b[39m \u001b[39m \u001b[39m \u001b[39m \u001b[39m \u001b[39m \u001b[39m \u001b[39m \u001b[39m \u001b[39m \u001b[39m \u001b[39m \u001b[39m \u001b[39m \u001b[39m \u001b[39m█\u001b[34m▃\u001b[39m\u001b[32m \u001b[39m\u001b[39m \u001b[39m \u001b[39m▁\u001b[39m \u001b[39m \u001b[39m \u001b[39m \u001b[39m \u001b[39m \u001b[39m \u001b[39m \u001b[39m \u001b[39m \u001b[39m \u001b[39m \n",
       "  \u001b[39m▂\u001b[39m▂\u001b[39m▂\u001b[39m▂\u001b[39m▂\u001b[39m▂\u001b[39m▁\u001b[39m▁\u001b[39m▁\u001b[39m▁\u001b[39m▁\u001b[39m▁\u001b[39m▁\u001b[39m▁\u001b[39m▁\u001b[39m▁\u001b[39m▁\u001b[39m▁\u001b[39m▁\u001b[39m▁\u001b[39m▁\u001b[39m▁\u001b[39m▁\u001b[39m▁\u001b[39m▁\u001b[39m▁\u001b[39m▁\u001b[39m▁\u001b[39m▁\u001b[39m▁\u001b[39m▁\u001b[39m▁\u001b[39m▁\u001b[39m▁\u001b[39m▁\u001b[39m▁\u001b[39m▁\u001b[39m▁\u001b[39m▁\u001b[39m▁\u001b[39m▂\u001b[39m▄\u001b[39m▄\u001b[39m█\u001b[34m█\u001b[39m\u001b[32m▄\u001b[39m\u001b[39m▃\u001b[39m▄\u001b[39m█\u001b[39m▂\u001b[39m▃\u001b[39m▃\u001b[39m▃\u001b[39m▂\u001b[39m▂\u001b[39m▂\u001b[39m▂\u001b[39m▂\u001b[39m▂\u001b[39m \u001b[39m▂\n",
       "  1.25 ms\u001b[90m         Histogram: frequency by time\u001b[39m        2.61 ms \u001b[0m\u001b[1m<\u001b[22m\n",
       "\n",
       " Memory estimate\u001b[90m: \u001b[39m\u001b[33m6.52 KiB\u001b[39m, allocs estimate\u001b[90m: \u001b[39m\u001b[33m142\u001b[39m."
      ]
     },
     "execution_count": 61,
     "metadata": {},
     "output_type": "execute_result"
    }
   ],
   "source": [
    "@benchmark wait(@roc groupsize=1024 gridsize=1024*512 reduce_grid_atomic(+, $(AMDGPU.rand(Int, 1024*1024)), $(AMDGPU.zeros(Int, 1))))"
   ]
  },
  {
   "cell_type": "markdown",
   "id": "e4b39230",
   "metadata": {},
   "source": [
    "### Shared memory\n",
    "\n",
    "Another common optimization comes from the fact that blocks of threads are executed on separate processors that have their own memory shared between the threads running on that multiprocessor. Accessing that memory is faster than going to global memory, so it is often used for caching loads, and for communicating betweent threads. Both those aspects apply here:"
   ]
  },
  {
   "cell_type": "code",
   "execution_count": 64,
   "id": "f5489809",
   "metadata": {},
   "outputs": [
    {
     "data": {
      "text/plain": [
       "136"
      ]
     },
     "execution_count": 64,
     "metadata": {},
     "output_type": "execute_result"
    }
   ],
   "source": [
    "function reduce_grid_atomic_shmem(op, a::AbstractArray{T}, b) where {T}\n",
    "    elements = workgroupDim().x*2\n",
    "    thread = workitemIdx().x\n",
    "    block = workgroupIdx().x\n",
    "    offset = (block-1) * elements\n",
    "\n",
    "    # shared mem to buffer memory loads\n",
    "    shared = ROCDeviceArray(2048, AMDGPU.alloc_local(:local, T, 2048))\n",
    "    @inbounds shared[thread] = a[offset+thread]\n",
    "    @inbounds shared[thread+workgroupDim().x] = a[offset+thread+workgroupDim().x]\n",
    "\n",
    "    # parallel reduction of values in a block\n",
    "    d = 1\n",
    "    while d < elements\n",
    "        sync_workgroup()\n",
    "        index = 2 * d * (thread-1) + 1\n",
    "        @inbounds if index <= elements && offset+index+d <= length(a)\n",
    "            shared[index] = op(shared[index], shared[index+d])\n",
    "        end\n",
    "        d *= 2\n",
    "    end\n",
    "    \n",
    "    # atomic reduction\n",
    "    if thread == 1\n",
    "        @atomic b[] = op(b[], shared[1])\n",
    "    end\n",
    "    \n",
    "    return\n",
    "end\n",
    "\n",
    "a = ROCArray(1:16)\n",
    "b = ROCArray([0])\n",
    "wait(@roc groupsize=4 gridsize=4*2 reduce_grid_atomic_shmem(+, a, b))\n",
    "AMDGPU.@allowscalar b[]"
   ]
  },
  {
   "cell_type": "code",
   "execution_count": 65,
   "id": "7c53dac0",
   "metadata": {},
   "outputs": [
    {
     "data": {
      "text/plain": [
       "BenchmarkTools.Trial: 2178 samples with 1 evaluation.\n",
       " Range \u001b[90m(\u001b[39m\u001b[36m\u001b[1mmin\u001b[22m\u001b[39m … \u001b[35mmax\u001b[39m\u001b[90m):  \u001b[39m\u001b[36m\u001b[1m1.215 ms\u001b[22m\u001b[39m … \u001b[35m  2.760 ms\u001b[39m  \u001b[90m┊\u001b[39m GC \u001b[90m(\u001b[39mmin … max\u001b[90m): \u001b[39m0.00% … 0.00%\n",
       " Time  \u001b[90m(\u001b[39m\u001b[34m\u001b[1mmedian\u001b[22m\u001b[39m\u001b[90m):     \u001b[39m\u001b[34m\u001b[1m2.265 ms               \u001b[22m\u001b[39m\u001b[90m┊\u001b[39m GC \u001b[90m(\u001b[39mmedian\u001b[90m):    \u001b[39m0.00%\n",
       " Time  \u001b[90m(\u001b[39m\u001b[32m\u001b[1mmean\u001b[22m\u001b[39m ± \u001b[32mσ\u001b[39m\u001b[90m):   \u001b[39m\u001b[32m\u001b[1m2.288 ms\u001b[22m\u001b[39m ± \u001b[32m109.596 μs\u001b[39m  \u001b[90m┊\u001b[39m GC \u001b[90m(\u001b[39mmean ± σ\u001b[90m):  \u001b[39m0.00% ± 0.00%\n",
       "\n",
       "  \u001b[39m \u001b[39m \u001b[39m \u001b[39m \u001b[39m \u001b[39m \u001b[39m \u001b[39m \u001b[39m \u001b[39m \u001b[39m \u001b[39m \u001b[39m \u001b[39m \u001b[39m \u001b[39m \u001b[39m \u001b[39m \u001b[39m \u001b[39m \u001b[39m \u001b[39m \u001b[39m \u001b[39m \u001b[39m \u001b[39m \u001b[39m \u001b[39m \u001b[39m \u001b[39m \u001b[39m \u001b[39m \u001b[39m \u001b[39m \u001b[39m \u001b[39m \u001b[39m \u001b[39m \u001b[39m \u001b[39m \u001b[39m \u001b[39m \u001b[39m \u001b[39m \u001b[39m \u001b[39m \u001b[39m▂\u001b[39m█\u001b[34m▆\u001b[39m\u001b[32m▃\u001b[39m\u001b[39m▄\u001b[39m▅\u001b[39m▅\u001b[39m▁\u001b[39m▁\u001b[39m▃\u001b[39m \u001b[39m \u001b[39m \u001b[39m \u001b[39m \n",
       "  \u001b[39m▃\u001b[39m▁\u001b[39m▇\u001b[39m▁\u001b[39m▄\u001b[39m▅\u001b[39m▃\u001b[39m▄\u001b[39m▃\u001b[39m▁\u001b[39m▁\u001b[39m▁\u001b[39m▁\u001b[39m▁\u001b[39m▁\u001b[39m▁\u001b[39m▁\u001b[39m▁\u001b[39m▁\u001b[39m▁\u001b[39m▁\u001b[39m▁\u001b[39m▁\u001b[39m▁\u001b[39m▁\u001b[39m▁\u001b[39m▁\u001b[39m▁\u001b[39m▁\u001b[39m▁\u001b[39m▁\u001b[39m▁\u001b[39m▁\u001b[39m▁\u001b[39m▁\u001b[39m▁\u001b[39m▁\u001b[39m▁\u001b[39m▁\u001b[39m▁\u001b[39m▁\u001b[39m▁\u001b[39m▁\u001b[39m▃\u001b[39m▇\u001b[39m█\u001b[39m█\u001b[39m█\u001b[34m█\u001b[39m\u001b[32m█\u001b[39m\u001b[39m█\u001b[39m█\u001b[39m█\u001b[39m█\u001b[39m█\u001b[39m█\u001b[39m▆\u001b[39m▁\u001b[39m▆\u001b[39m \u001b[39m█\n",
       "  1.22 ms\u001b[90m      \u001b[39m\u001b[90mHistogram: \u001b[39m\u001b[90m\u001b[1mlog(\u001b[22m\u001b[39m\u001b[90mfrequency\u001b[39m\u001b[90m\u001b[1m)\u001b[22m\u001b[39m\u001b[90m by time\u001b[39m       2.5 ms \u001b[0m\u001b[1m<\u001b[22m\n",
       "\n",
       " Memory estimate\u001b[90m: \u001b[39m\u001b[33m6.52 KiB\u001b[39m, allocs estimate\u001b[90m: \u001b[39m\u001b[33m142\u001b[39m."
      ]
     },
     "execution_count": 65,
     "metadata": {},
     "output_type": "execute_result"
    }
   ],
   "source": [
    "@benchmark wait(@roc groupsize=1024 gridsize=1024*512 reduce_grid_atomic_shmem(+, $(AMDGPU.rand(Int, 1024*1024)), $(AMDGPU.zeros(Int, 1))))"
   ]
  },
  {
   "cell_type": "markdown",
   "id": "8e7f07d1",
   "metadata": {},
   "source": [
    "The performance improvement isn't great, but that's because I'm using a powerful GPU with lots of global memory bandwith. On older or lower-end GPUs, using shared memory would be valuable."
   ]
  },
  {
   "cell_type": "markdown",
   "id": "ebeb6fdf",
   "metadata": {},
   "source": [
    "### Conclusion\n",
    "\n",
    "And like that, the story keeps going. We're already at some decent level of performance, but there's still ways to go. CUDA.jl has a far faster `sum` implementation, and we'd love if interested contributors would want to try their hand at porting it to AMDGPU.jl!"
   ]
  },
  {
   "cell_type": "markdown",
   "id": "04b9d8e5",
   "metadata": {},
   "source": [
    "Ultimately though, this kind of implementation and optimization isn't specific to AMDGPU.jl. It's exactly the same principles as with HIP C++, at mostly the same abstraction level, just with a much more user friendly programming language. I'm stopping here because the implementation at this point is still reasonably portable across back-ends. Other, more specific optimizations would include:\n",
    "- tune the launch configuration and use dynamic shared memory\n",
    "- avoid shared memory bank conflicts\n",
    "- using workgroup communication intrinsics to directly write to other threads' registers\n",
    "- analyse the access pattern to ensure all memory accesses are coalesced\n",
    "- ..."
   ]
  },
  {
   "cell_type": "markdown",
   "id": "eef4ef5d",
   "metadata": {},
   "source": [
    "# Common issues\n",
    "\n",
    "The most frequent issues with the GPU stack come from expected CPU functionality not being implemented or supported on the GPU.\n",
    "\n",
    "## Unsupported array operations\n",
    "\n",
    "For example, with array expressions, missing operations often lead to the use of iterating fallback functionality, which triggers the scalar iteration error:"
   ]
  },
  {
   "cell_type": "code",
   "execution_count": 66,
   "id": "dc3dce88",
   "metadata": {},
   "outputs": [
    {
     "ename": "LoadError",
     "evalue": "Scalar indexing is disallowed.\nInvocation of getindex resulted in scalar indexing of a GPU array.\nThis is typically caused by calling an iterating implementation of a method.\nSuch implementations *do not* execute on the GPU, but very slowly on the CPU,\nand therefore are only permitted from the REPL for prototyping purposes.\nIf you did intend to index this array, annotate the caller with @allowscalar.",
     "output_type": "error",
     "traceback": [
      "Scalar indexing is disallowed.\nInvocation of getindex resulted in scalar indexing of a GPU array.\nThis is typically caused by calling an iterating implementation of a method.\nSuch implementations *do not* execute on the GPU, but very slowly on the CPU,\nand therefore are only permitted from the REPL for prototyping purposes.\nIf you did intend to index this array, annotate the caller with @allowscalar.",
      "",
      "Stacktrace:",
      "  [1] error(s::String)",
      "    @ Base ./error.jl:33",
      "  [2] assertscalar(op::String)",
      "    @ GPUArrays ~/.julia/packages/GPUArrays/8dzSJ/src/host/indexing.jl:53",
      "  [3] getindex",
      "    @ ~/.julia/packages/GPUArrays/8dzSJ/src/host/indexing.jl:86 [inlined]",
      "  [4] istriu(A::ROCMatrix{Float32}, k::Int64)",
      "    @ LinearAlgebra /buildworker/worker/package_linux64/build/usr/share/julia/stdlib/v1.6/LinearAlgebra/src/generic.jl:1292",
      "  [5] isbanded",
      "    @ /buildworker/worker/package_linux64/build/usr/share/julia/stdlib/v1.6/LinearAlgebra/src/generic.jl:1372 [inlined]",
      "  [6] isdiag",
      "    @ /buildworker/worker/package_linux64/build/usr/share/julia/stdlib/v1.6/LinearAlgebra/src/generic.jl:1398 [inlined]",
      "  [7] eigen(A::ROCMatrix{Float32}; permute::Bool, scale::Bool, sortby::typeof(LinearAlgebra.eigsortby))",
      "    @ LinearAlgebra /buildworker/worker/package_linux64/build/usr/share/julia/stdlib/v1.6/LinearAlgebra/src/eigen.jl:236",
      "  [8] eigen(A::ROCMatrix{Float32})",
      "    @ LinearAlgebra /buildworker/worker/package_linux64/build/usr/share/julia/stdlib/v1.6/LinearAlgebra/src/eigen.jl:235",
      "  [9] top-level scope",
      "    @ In[66]:2",
      " [10] eval",
      "    @ ./boot.jl:360 [inlined]",
      " [11] include_string(mapexpr::typeof(REPL.softscope), mod::Module, code::String, filename::String)",
      "    @ Base ./loading.jl:1094"
     ]
    }
   ],
   "source": [
    "using LinearAlgebra\n",
    "eigen(AMDGPU.rand(2,2))"
   ]
  },
  {
   "cell_type": "markdown",
   "id": "a8faa9e6",
   "metadata": {},
   "source": [
    "This doesn't mean that this operation cannot work on the GPU, but just that nobody has taken the time to implement `eigen` (or one of the functions it calls) using either functionality from AMD's libraries, or using a native GPU kernel written in Julia."
   ]
  },
  {
   "cell_type": "markdown",
   "id": "cfe3b4ac",
   "metadata": {},
   "source": [
    "With array operations, it's also easy to get an error when using unsupported data with GPU kernels. Essentially, every value passed to a kernel needs to be an `isbits` type. An easy way to violate this, is to pass a CPU array to a GPU array operation:"
   ]
  },
  {
   "cell_type": "code",
   "execution_count": 67,
   "id": "9ae59d3f",
   "metadata": {},
   "outputs": [
    {
     "ename": "LoadError",
     "evalue": "GPU compilation of kernel broadcast_kernel(AMDGPU.ROCKernelContext, ROCDeviceMatrix{Float64, 1}, Base.Broadcast.Broadcasted{Nothing, Tuple{Base.OneTo{Int64}, Base.OneTo{Int64}}, var\"#93#94\", Tuple{Base.Broadcast.Extruded{ROCDeviceMatrix{Float32, 1}, Tuple{Bool, Bool}, Tuple{Int64, Int64}}, Base.Broadcast.Extruded{Vector{Float64}, Tuple{Bool}, Tuple{Int64}}}}, Int64) failed\nKernelError: passing and using non-bitstype argument\n\nArgument 4 to your kernel function is of type Base.Broadcast.Broadcasted{Nothing, Tuple{Base.OneTo{Int64}, Base.OneTo{Int64}}, var\"#93#94\", Tuple{Base.Broadcast.Extruded{ROCDeviceMatrix{Float32, 1}, Tuple{Bool, Bool}, Tuple{Int64, Int64}}, Base.Broadcast.Extruded{Vector{Float64}, Tuple{Bool}, Tuple{Int64}}}}, which is not isbits:\n  .args is of type Tuple{Base.Broadcast.Extruded{ROCDeviceMatrix{Float32, 1}, Tuple{Bool, Bool}, Tuple{Int64, Int64}}, Base.Broadcast.Extruded{Vector{Float64}, Tuple{Bool}, Tuple{Int64}}} which is not isbits.\n    .2 is of type Base.Broadcast.Extruded{Vector{Float64}, Tuple{Bool}, Tuple{Int64}} which is not isbits.\n      .x is of type Vector{Float64} which is not isbits.\n\n",
     "output_type": "error",
     "traceback": [
      "GPU compilation of kernel broadcast_kernel(AMDGPU.ROCKernelContext, ROCDeviceMatrix{Float64, 1}, Base.Broadcast.Broadcasted{Nothing, Tuple{Base.OneTo{Int64}, Base.OneTo{Int64}}, var\"#93#94\", Tuple{Base.Broadcast.Extruded{ROCDeviceMatrix{Float32, 1}, Tuple{Bool, Bool}, Tuple{Int64, Int64}}, Base.Broadcast.Extruded{Vector{Float64}, Tuple{Bool}, Tuple{Int64}}}}, Int64) failed\nKernelError: passing and using non-bitstype argument\n\nArgument 4 to your kernel function is of type Base.Broadcast.Broadcasted{Nothing, Tuple{Base.OneTo{Int64}, Base.OneTo{Int64}}, var\"#93#94\", Tuple{Base.Broadcast.Extruded{ROCDeviceMatrix{Float32, 1}, Tuple{Bool, Bool}, Tuple{Int64, Int64}}, Base.Broadcast.Extruded{Vector{Float64}, Tuple{Bool}, Tuple{Int64}}}}, which is not isbits:\n  .args is of type Tuple{Base.Broadcast.Extruded{ROCDeviceMatrix{Float32, 1}, Tuple{Bool, Bool}, Tuple{Int64, Int64}}, Base.Broadcast.Extruded{Vector{Float64}, Tuple{Bool}, Tuple{Int64}}} which is not isbits.\n    .2 is of type Base.Broadcast.Extruded{Vector{Float64}, Tuple{Bool}, Tuple{Int64}} which is not isbits.\n      .x is of type Vector{Float64} which is not isbits.\n\n",
      "",
      "Stacktrace:",
      "  [1] check_invocation(job::GPUCompiler.CompilerJob)",
      "    @ GPUCompiler ~/.julia/packages/GPUCompiler/wHjqZ/src/validation.jl:66",
      "  [2] macro expansion",
      "    @ ~/.julia/packages/GPUCompiler/wHjqZ/src/driver.jl:318 [inlined]",
      "  [3] macro expansion",
      "    @ ~/.julia/packages/TimerOutputs/ZQ0rt/src/TimerOutput.jl:236 [inlined]",
      "  [4] macro expansion",
      "    @ ~/.julia/packages/GPUCompiler/wHjqZ/src/driver.jl:317 [inlined]",
      "  [5] emit_asm(job::GPUCompiler.CompilerJob, ir::LLVM.Module; strip::Bool, validate::Bool, format::LLVM.API.LLVMCodeGenFileType)",
      "    @ GPUCompiler ~/.julia/packages/GPUCompiler/wHjqZ/src/utils.jl:62",
      "  [6] rocfunction_compile(job::GPUCompiler.CompilerJob)",
      "    @ AMDGPU ~/.julia/packages/AMDGPU/YXDXx/src/execution.jl:320",
      "  [7] cached_compilation(cache::Dict{UInt64, Any}, job::GPUCompiler.CompilerJob, compiler::typeof(AMDGPU.rocfunction_compile), linker::typeof(AMDGPU.rocfunction_link))",
      "    @ GPUCompiler ~/.julia/packages/GPUCompiler/wHjqZ/src/cache.jl:89",
      "  [8] rocfunction(f::Function, tt::Type; name::Nothing, device::AMDGPU.RuntimeDevice{HSAAgent}, global_hooks::NamedTuple{(), Tuple{}}, kwargs::Base.Iterators.Pairs{Union{}, Union{}, Tuple{}, NamedTuple{(), Tuple{}}})",
      "    @ AMDGPU ~/.julia/packages/AMDGPU/YXDXx/src/execution.jl:308",
      "  [9] rocfunction",
      "    @ ~/.julia/packages/AMDGPU/YXDXx/src/execution.jl:299 [inlined]",
      " [10] macro expansion",
      "    @ ~/.julia/packages/AMDGPU/YXDXx/src/execution.jl:192 [inlined]",
      " [11] gpu_call(::AMDGPU.ROCArrayBackend, f::Function, args::Tuple{ROCMatrix{Float64}, Base.Broadcast.Broadcasted{Nothing, Tuple{Base.OneTo{Int64}, Base.OneTo{Int64}}, var\"#93#94\", Tuple{Base.Broadcast.Extruded{ROCMatrix{Float32}, Tuple{Bool, Bool}, Tuple{Int64, Int64}}, Base.Broadcast.Extruded{Vector{Float64}, Tuple{Bool}, Tuple{Int64}}}}, Int64}, threads::Int64, blocks::Int64; name::Nothing)",
      "    @ AMDGPU ~/.julia/packages/AMDGPU/YXDXx/src/array.jl:14",
      " [12] #gpu_call#1",
      "    @ ~/.julia/packages/GPUArrays/8dzSJ/src/device/execution.jl:67 [inlined]",
      " [13] copyto!",
      "    @ ~/.julia/packages/GPUArrays/8dzSJ/src/host/broadcast.jl:65 [inlined]",
      " [14] copyto!",
      "    @ ./broadcast.jl:936 [inlined]",
      " [15] copy",
      "    @ ~/.julia/packages/GPUArrays/8dzSJ/src/host/broadcast.jl:47 [inlined]",
      " [16] materialize",
      "    @ ./broadcast.jl:883 [inlined]",
      " [17] broadcast(::var\"#93#94\", ::ROCMatrix{Float32}, ::Vector{Float64})",
      "    @ Base.Broadcast ./broadcast.jl:821",
      " [18] top-level scope",
      "    @ In[67]:3",
      " [19] eval",
      "    @ ./boot.jl:360 [inlined]",
      " [20] include_string(mapexpr::typeof(REPL.softscope), mod::Module, code::String, filename::String)",
      "    @ Base ./loading.jl:1094"
     ]
    }
   ],
   "source": [
    "a = AMDGPU.rand(2,2)\n",
    "b = rand(2)\n",
    "broadcast(a, b) do x, y\n",
    "    x + y\n",
    "end"
   ]
  },
  {
   "cell_type": "markdown",
   "id": "c04a3920",
   "metadata": {},
   "source": [
    "## Unsupported kernel operations\n",
    "\n",
    "In device code, i.e. code that actually runs on the GPU as opposed to a CPU method (like `eigen`) that's implemented using GPU kernels, the story is a little more complicated. Essentially, not all of the Julia language is supported. If you use unsupported functionality, you will see a compilation error:"
   ]
  },
  {
   "cell_type": "code",
   "execution_count": 68,
   "id": "d32b0c4e",
   "metadata": {},
   "outputs": [
    {
     "ename": "LoadError",
     "evalue": "InvalidIRError: compiling kernel broadcast_kernel(AMDGPU.ROCKernelContext, ROCDeviceVector{Nothing, 1}, Base.Broadcast.Broadcasted{Nothing, Tuple{Base.OneTo{Int64}}, var\"#95#96\", Tuple{Base.Broadcast.Extruded{ROCDeviceVector{Float32, 1}, Tuple{Bool}, Tuple{Int64}}}}, Int64) resulted in invalid LLVM IR\nReason: unsupported call to the Julia runtime (call to jl_subtype)\nStacktrace:\n [1] \u001b[0m\u001b[1mprint\u001b[22m\n\u001b[90m   @ \u001b[39m\u001b[90m./\u001b[39m\u001b[90;4mcoreio.jl:3\u001b[0m\n [2] \u001b[0m\u001b[1m#95\u001b[22m\n\u001b[90m   @ \u001b[39m\u001b[90m./\u001b[39m\u001b[90;4mIn[68]:3\u001b[0m\n [3] \u001b[0m\u001b[1m_broadcast_getindex_evalf\u001b[22m\n\u001b[90m   @ \u001b[39m\u001b[90m./\u001b[39m\u001b[90;4mbroadcast.jl:648\u001b[0m\n [4] \u001b[0m\u001b[1m_broadcast_getindex\u001b[22m\n\u001b[90m   @ \u001b[39m\u001b[90m./\u001b[39m\u001b[90;4mbroadcast.jl:621\u001b[0m\n [5] \u001b[0m\u001b[1mgetindex\u001b[22m\n\u001b[90m   @ \u001b[39m\u001b[90m./\u001b[39m\u001b[90;4mbroadcast.jl:575\u001b[0m\n [6] \u001b[0m\u001b[1mbroadcast_kernel\u001b[22m\n\u001b[90m   @ \u001b[39m\u001b[90m~/.julia/packages/GPUArrays/8dzSJ/src/host/\u001b[39m\u001b[90;4mbroadcast.jl:59\u001b[0m\nReason: unsupported dynamic function invocation (call to print)\nStacktrace:\n [1] \u001b[0m\u001b[1mprint\u001b[22m\n\u001b[90m   @ \u001b[39m\u001b[90m./\u001b[39m\u001b[90;4mcoreio.jl:3\u001b[0m\n [2] \u001b[0m\u001b[1m#95\u001b[22m\n\u001b[90m   @ \u001b[39m\u001b[90m./\u001b[39m\u001b[90;4mIn[68]:3\u001b[0m\n [3] \u001b[0m\u001b[1m_broadcast_getindex_evalf\u001b[22m\n\u001b[90m   @ \u001b[39m\u001b[90m./\u001b[39m\u001b[90;4mbroadcast.jl:648\u001b[0m\n [4] \u001b[0m\u001b[1m_broadcast_getindex\u001b[22m\n\u001b[90m   @ \u001b[39m\u001b[90m./\u001b[39m\u001b[90;4mbroadcast.jl:621\u001b[0m\n [5] \u001b[0m\u001b[1mgetindex\u001b[22m\n\u001b[90m   @ \u001b[39m\u001b[90m./\u001b[39m\u001b[90;4mbroadcast.jl:575\u001b[0m\n [6] \u001b[0m\u001b[1mbroadcast_kernel\u001b[22m\n\u001b[90m   @ \u001b[39m\u001b[90m~/.julia/packages/GPUArrays/8dzSJ/src/host/\u001b[39m\u001b[90;4mbroadcast.jl:59\u001b[0m",
     "output_type": "error",
     "traceback": [
      "InvalidIRError: compiling kernel broadcast_kernel(AMDGPU.ROCKernelContext, ROCDeviceVector{Nothing, 1}, Base.Broadcast.Broadcasted{Nothing, Tuple{Base.OneTo{Int64}}, var\"#95#96\", Tuple{Base.Broadcast.Extruded{ROCDeviceVector{Float32, 1}, Tuple{Bool}, Tuple{Int64}}}}, Int64) resulted in invalid LLVM IR\nReason: unsupported call to the Julia runtime (call to jl_subtype)\nStacktrace:\n [1] \u001b[0m\u001b[1mprint\u001b[22m\n\u001b[90m   @ \u001b[39m\u001b[90m./\u001b[39m\u001b[90;4mcoreio.jl:3\u001b[0m\n [2] \u001b[0m\u001b[1m#95\u001b[22m\n\u001b[90m   @ \u001b[39m\u001b[90m./\u001b[39m\u001b[90;4mIn[68]:3\u001b[0m\n [3] \u001b[0m\u001b[1m_broadcast_getindex_evalf\u001b[22m\n\u001b[90m   @ \u001b[39m\u001b[90m./\u001b[39m\u001b[90;4mbroadcast.jl:648\u001b[0m\n [4] \u001b[0m\u001b[1m_broadcast_getindex\u001b[22m\n\u001b[90m   @ \u001b[39m\u001b[90m./\u001b[39m\u001b[90;4mbroadcast.jl:621\u001b[0m\n [5] \u001b[0m\u001b[1mgetindex\u001b[22m\n\u001b[90m   @ \u001b[39m\u001b[90m./\u001b[39m\u001b[90;4mbroadcast.jl:575\u001b[0m\n [6] \u001b[0m\u001b[1mbroadcast_kernel\u001b[22m\n\u001b[90m   @ \u001b[39m\u001b[90m~/.julia/packages/GPUArrays/8dzSJ/src/host/\u001b[39m\u001b[90;4mbroadcast.jl:59\u001b[0m\nReason: unsupported dynamic function invocation (call to print)\nStacktrace:\n [1] \u001b[0m\u001b[1mprint\u001b[22m\n\u001b[90m   @ \u001b[39m\u001b[90m./\u001b[39m\u001b[90;4mcoreio.jl:3\u001b[0m\n [2] \u001b[0m\u001b[1m#95\u001b[22m\n\u001b[90m   @ \u001b[39m\u001b[90m./\u001b[39m\u001b[90;4mIn[68]:3\u001b[0m\n [3] \u001b[0m\u001b[1m_broadcast_getindex_evalf\u001b[22m\n\u001b[90m   @ \u001b[39m\u001b[90m./\u001b[39m\u001b[90;4mbroadcast.jl:648\u001b[0m\n [4] \u001b[0m\u001b[1m_broadcast_getindex\u001b[22m\n\u001b[90m   @ \u001b[39m\u001b[90m./\u001b[39m\u001b[90;4mbroadcast.jl:621\u001b[0m\n [5] \u001b[0m\u001b[1mgetindex\u001b[22m\n\u001b[90m   @ \u001b[39m\u001b[90m./\u001b[39m\u001b[90;4mbroadcast.jl:575\u001b[0m\n [6] \u001b[0m\u001b[1mbroadcast_kernel\u001b[22m\n\u001b[90m   @ \u001b[39m\u001b[90m~/.julia/packages/GPUArrays/8dzSJ/src/host/\u001b[39m\u001b[90;4mbroadcast.jl:59\u001b[0m",
      "",
      "Stacktrace:",
      "  [1] check_ir(job::GPUCompiler.CompilerJob{GPUCompiler.GCNCompilerTarget, AMDGPU.ROCCompilerParams, GPUCompiler.FunctionSpec{GPUArrays.var\"#broadcast_kernel#16\", Tuple{AMDGPU.ROCKernelContext, ROCDeviceVector{Nothing, 1}, Base.Broadcast.Broadcasted{Nothing, Tuple{Base.OneTo{Int64}}, var\"#95#96\", Tuple{Base.Broadcast.Extruded{ROCDeviceVector{Float32, 1}, Tuple{Bool}, Tuple{Int64}}}}, Int64}}}, args::LLVM.Module)",
      "    @ GPUCompiler ~/.julia/packages/GPUCompiler/wHjqZ/src/validation.jl:111",
      "  [2] macro expansion",
      "    @ ~/.julia/packages/GPUCompiler/wHjqZ/src/driver.jl:319 [inlined]",
      "  [3] macro expansion",
      "    @ ~/.julia/packages/TimerOutputs/ZQ0rt/src/TimerOutput.jl:236 [inlined]",
      "  [4] macro expansion",
      "    @ ~/.julia/packages/GPUCompiler/wHjqZ/src/driver.jl:317 [inlined]",
      "  [5] emit_asm(job::GPUCompiler.CompilerJob, ir::LLVM.Module; strip::Bool, validate::Bool, format::LLVM.API.LLVMCodeGenFileType)",
      "    @ GPUCompiler ~/.julia/packages/GPUCompiler/wHjqZ/src/utils.jl:62",
      "  [6] rocfunction_compile(job::GPUCompiler.CompilerJob)",
      "    @ AMDGPU ~/.julia/packages/AMDGPU/YXDXx/src/execution.jl:320",
      "  [7] cached_compilation(cache::Dict{UInt64, Any}, job::GPUCompiler.CompilerJob, compiler::typeof(AMDGPU.rocfunction_compile), linker::typeof(AMDGPU.rocfunction_link))",
      "    @ GPUCompiler ~/.julia/packages/GPUCompiler/wHjqZ/src/cache.jl:89",
      "  [8] rocfunction(f::Function, tt::Type; name::Nothing, device::AMDGPU.RuntimeDevice{HSAAgent}, global_hooks::NamedTuple{(), Tuple{}}, kwargs::Base.Iterators.Pairs{Union{}, Union{}, Tuple{}, NamedTuple{(), Tuple{}}})",
      "    @ AMDGPU ~/.julia/packages/AMDGPU/YXDXx/src/execution.jl:308",
      "  [9] rocfunction",
      "    @ ~/.julia/packages/AMDGPU/YXDXx/src/execution.jl:299 [inlined]",
      " [10] macro expansion",
      "    @ ~/.julia/packages/AMDGPU/YXDXx/src/execution.jl:192 [inlined]",
      " [11] gpu_call(::AMDGPU.ROCArrayBackend, f::Function, args::Tuple{ROCVector{Nothing}, Base.Broadcast.Broadcasted{Nothing, Tuple{Base.OneTo{Int64}}, var\"#95#96\", Tuple{Base.Broadcast.Extruded{ROCVector{Float32}, Tuple{Bool}, Tuple{Int64}}}}, Int64}, threads::Int64, blocks::Int64; name::Nothing)",
      "    @ AMDGPU ~/.julia/packages/AMDGPU/YXDXx/src/array.jl:14",
      " [12] #gpu_call#1",
      "    @ ~/.julia/packages/GPUArrays/8dzSJ/src/device/execution.jl:67 [inlined]",
      " [13] copyto!",
      "    @ ~/.julia/packages/GPUArrays/8dzSJ/src/host/broadcast.jl:65 [inlined]",
      " [14] copyto!",
      "    @ ./broadcast.jl:936 [inlined]",
      " [15] copy",
      "    @ ~/.julia/packages/GPUArrays/8dzSJ/src/host/broadcast.jl:47 [inlined]",
      " [16] materialize",
      "    @ ./broadcast.jl:883 [inlined]",
      " [17] broadcast(f::var\"#95#96\", As::ROCVector{Float32})",
      "    @ Base.Broadcast ./broadcast.jl:821",
      " [18] top-level scope",
      "    @ In[68]:2",
      " [19] eval",
      "    @ ./boot.jl:360 [inlined]",
      " [20] include_string(mapexpr::typeof(REPL.softscope), mod::Module, code::String, filename::String)",
      "    @ Base ./loading.jl:1094"
     ]
    }
   ],
   "source": [
    "a = AMDGPU.rand(1)\n",
    "broadcast(a) do x\n",
    "    print(x)\n",
    "end"
   ]
  },
  {
   "cell_type": "markdown",
   "id": "0ede4a3b",
   "metadata": {},
   "source": [
    "To help debugging this, there's multiple stacktraces being displayed: one pointing to each unsupported operation in a GPU kernel, and finally a host stack trace pointing to the CPU code that invoked the kernel. Often, that's sufficient to find and resolve the issue."
   ]
  },
  {
   "cell_type": "markdown",
   "id": "8ee47166",
   "metadata": {},
   "source": [
    "Sometimes though, the issue is more subtle:"
   ]
  },
  {
   "cell_type": "code",
   "execution_count": 70,
   "id": "f836191d",
   "metadata": {},
   "outputs": [
    {
     "ename": "LoadError",
     "evalue": "InvalidIRError: compiling kernel bad_kernel(ROCDeviceVector{Int64, 1}) resulted in invalid LLVM IR\nReason: unsupported use of an undefined name (use of 'workitemId')\nStacktrace:\n [1] \u001b[0m\u001b[1mbad_kernel\u001b[22m\n\u001b[90m   @ \u001b[39m\u001b[90m./\u001b[39m\u001b[90;4mIn[70]:2\u001b[0m\nReason: unsupported dynamic function invocation\nStacktrace:\n [1] \u001b[0m\u001b[1mbad_kernel\u001b[22m\n\u001b[90m   @ \u001b[39m\u001b[90m./\u001b[39m\u001b[90;4mIn[70]:2\u001b[0m\nReason: unsupported dynamic function invocation (call to getproperty)\nStacktrace:\n [1] \u001b[0m\u001b[1mbad_kernel\u001b[22m\n\u001b[90m   @ \u001b[39m\u001b[90m./\u001b[39m\u001b[90;4mIn[70]:2\u001b[0m\nReason: unsupported dynamic function invocation (call to setindex!)\nStacktrace:\n [1] \u001b[0m\u001b[1mbad_kernel\u001b[22m\n\u001b[90m   @ \u001b[39m\u001b[90m./\u001b[39m\u001b[90;4mIn[70]:2\u001b[0m",
     "output_type": "error",
     "traceback": [
      "InvalidIRError: compiling kernel bad_kernel(ROCDeviceVector{Int64, 1}) resulted in invalid LLVM IR\nReason: unsupported use of an undefined name (use of 'workitemId')\nStacktrace:\n [1] \u001b[0m\u001b[1mbad_kernel\u001b[22m\n\u001b[90m   @ \u001b[39m\u001b[90m./\u001b[39m\u001b[90;4mIn[70]:2\u001b[0m\nReason: unsupported dynamic function invocation\nStacktrace:\n [1] \u001b[0m\u001b[1mbad_kernel\u001b[22m\n\u001b[90m   @ \u001b[39m\u001b[90m./\u001b[39m\u001b[90;4mIn[70]:2\u001b[0m\nReason: unsupported dynamic function invocation (call to getproperty)\nStacktrace:\n [1] \u001b[0m\u001b[1mbad_kernel\u001b[22m\n\u001b[90m   @ \u001b[39m\u001b[90m./\u001b[39m\u001b[90;4mIn[70]:2\u001b[0m\nReason: unsupported dynamic function invocation (call to setindex!)\nStacktrace:\n [1] \u001b[0m\u001b[1mbad_kernel\u001b[22m\n\u001b[90m   @ \u001b[39m\u001b[90m./\u001b[39m\u001b[90;4mIn[70]:2\u001b[0m",
      "",
      "Stacktrace:",
      "  [1] check_ir(job::GPUCompiler.CompilerJob{GPUCompiler.GCNCompilerTarget, AMDGPU.ROCCompilerParams, GPUCompiler.FunctionSpec{typeof(bad_kernel), Tuple{ROCDeviceVector{Int64, 1}}}}, args::LLVM.Module)",
      "    @ GPUCompiler ~/.julia/packages/GPUCompiler/wHjqZ/src/validation.jl:111",
      "  [2] macro expansion",
      "    @ ~/.julia/packages/GPUCompiler/wHjqZ/src/driver.jl:319 [inlined]",
      "  [3] macro expansion",
      "    @ ~/.julia/packages/TimerOutputs/ZQ0rt/src/TimerOutput.jl:236 [inlined]",
      "  [4] macro expansion",
      "    @ ~/.julia/packages/GPUCompiler/wHjqZ/src/driver.jl:317 [inlined]",
      "  [5] emit_asm(job::GPUCompiler.CompilerJob, ir::LLVM.Module; strip::Bool, validate::Bool, format::LLVM.API.LLVMCodeGenFileType)",
      "    @ GPUCompiler ~/.julia/packages/GPUCompiler/wHjqZ/src/utils.jl:62",
      "  [6] rocfunction_compile(job::GPUCompiler.CompilerJob)",
      "    @ AMDGPU ~/.julia/packages/AMDGPU/YXDXx/src/execution.jl:320",
      "  [7] cached_compilation(cache::Dict{UInt64, Any}, job::GPUCompiler.CompilerJob, compiler::typeof(AMDGPU.rocfunction_compile), linker::typeof(AMDGPU.rocfunction_link))",
      "    @ GPUCompiler ~/.julia/packages/GPUCompiler/wHjqZ/src/cache.jl:89",
      "  [8] rocfunction(f::Function, tt::Type; name::Nothing, device::AMDGPU.RuntimeDevice{HSAAgent}, global_hooks::NamedTuple{(), Tuple{}}, kwargs::Base.Iterators.Pairs{Union{}, Union{}, Tuple{}, NamedTuple{(), Tuple{}}})",
      "    @ AMDGPU ~/.julia/packages/AMDGPU/YXDXx/src/execution.jl:308",
      "  [9] rocfunction(f::Function, tt::Type)",
      "    @ AMDGPU ~/.julia/packages/AMDGPU/YXDXx/src/execution.jl:299",
      " [10] top-level scope",
      "    @ ~/.julia/packages/AMDGPU/YXDXx/src/execution.jl:192",
      " [11] eval",
      "    @ ./boot.jl:360 [inlined]",
      " [12] include_string(mapexpr::typeof(REPL.softscope), mod::Module, code::String, filename::String)",
      "    @ Base ./loading.jl:1094"
     ]
    }
   ],
   "source": [
    "function bad_kernel(a)\n",
    "    a[workitemId().x] = 0\n",
    "    return\n",
    "end\n",
    "\n",
    "wait(@roc bad_kernel(ROCArray([1])))"
   ]
  },
  {
   "cell_type": "markdown",
   "id": "9340dcf7",
   "metadata": {},
   "source": [
    "Here, the issue isn't obvious, with the stack traces pointing to seemingly OK code. In such cases, code reflection utilities can help. All GPU back-ends based on GPUCompiler.jl (i.e. CUDA.jl, AMDGPU.jl and oneAPI.jl) have device-versions of typical reflection utilities like `@code_warntype` or `code_llvm`:"
   ]
  },
  {
   "cell_type": "code",
   "execution_count": 71,
   "id": "b50050b6",
   "metadata": {},
   "outputs": [
    {
     "name": "stdout",
     "output_type": "stream",
     "text": [
      "CompilerJob of kernel bad_kernel(ROCDeviceVector{Int64, 1}) for GPUCompiler.GCNCompilerTarget\n",
      "\n",
      "Variables\n",
      "  #self#\u001b[36m::Core.Const(bad_kernel)\u001b[39m\n",
      "  a\u001b[36m::ROCDeviceVector{Int64, 1}\u001b[39m\n",
      "\n",
      "Body\u001b[36m::Nothing\u001b[39m\n",
      "\u001b[90m1 ─\u001b[39m %1 = Main.workitemId()\u001b[91m\u001b[1m::Any\u001b[22m\u001b[39m\n",
      "\u001b[90m│  \u001b[39m %2 = Base.getproperty(%1, :x)\u001b[91m\u001b[1m::Any\u001b[22m\u001b[39m\n",
      "\u001b[90m│  \u001b[39m      Base.setindex!(a, 0, %2)\n",
      "\u001b[90m└──\u001b[39m      return nothing\n"
     ]
    },
    {
     "ename": "LoadError",
     "evalue": "InvalidIRError: compiling kernel bad_kernel(ROCDeviceVector{Int64, 1}) resulted in invalid LLVM IR\nReason: unsupported use of an undefined name (use of 'workitemId')\nStacktrace:\n [1] \u001b[0m\u001b[1mbad_kernel\u001b[22m\n\u001b[90m   @ \u001b[39m\u001b[90m./\u001b[39m\u001b[90;4mIn[70]:2\u001b[0m\nReason: unsupported dynamic function invocation\nStacktrace:\n [1] \u001b[0m\u001b[1mbad_kernel\u001b[22m\n\u001b[90m   @ \u001b[39m\u001b[90m./\u001b[39m\u001b[90;4mIn[70]:2\u001b[0m\nReason: unsupported dynamic function invocation (call to getproperty)\nStacktrace:\n [1] \u001b[0m\u001b[1mbad_kernel\u001b[22m\n\u001b[90m   @ \u001b[39m\u001b[90m./\u001b[39m\u001b[90;4mIn[70]:2\u001b[0m\nReason: unsupported dynamic function invocation (call to setindex!)\nStacktrace:\n [1] \u001b[0m\u001b[1mbad_kernel\u001b[22m\n\u001b[90m   @ \u001b[39m\u001b[90m./\u001b[39m\u001b[90;4mIn[70]:2\u001b[0m",
     "output_type": "error",
     "traceback": [
      "InvalidIRError: compiling kernel bad_kernel(ROCDeviceVector{Int64, 1}) resulted in invalid LLVM IR\nReason: unsupported use of an undefined name (use of 'workitemId')\nStacktrace:\n [1] \u001b[0m\u001b[1mbad_kernel\u001b[22m\n\u001b[90m   @ \u001b[39m\u001b[90m./\u001b[39m\u001b[90;4mIn[70]:2\u001b[0m\nReason: unsupported dynamic function invocation\nStacktrace:\n [1] \u001b[0m\u001b[1mbad_kernel\u001b[22m\n\u001b[90m   @ \u001b[39m\u001b[90m./\u001b[39m\u001b[90;4mIn[70]:2\u001b[0m\nReason: unsupported dynamic function invocation (call to getproperty)\nStacktrace:\n [1] \u001b[0m\u001b[1mbad_kernel\u001b[22m\n\u001b[90m   @ \u001b[39m\u001b[90m./\u001b[39m\u001b[90;4mIn[70]:2\u001b[0m\nReason: unsupported dynamic function invocation (call to setindex!)\nStacktrace:\n [1] \u001b[0m\u001b[1mbad_kernel\u001b[22m\n\u001b[90m   @ \u001b[39m\u001b[90m./\u001b[39m\u001b[90;4mIn[70]:2\u001b[0m",
      "",
      "Stacktrace:",
      "  [1] check_ir(job::GPUCompiler.CompilerJob{GPUCompiler.GCNCompilerTarget, AMDGPU.ROCCompilerParams, GPUCompiler.FunctionSpec{typeof(bad_kernel), Tuple{ROCDeviceVector{Int64, 1}}}}, args::LLVM.Module)",
      "    @ GPUCompiler ~/.julia/packages/GPUCompiler/wHjqZ/src/validation.jl:111",
      "  [2] macro expansion",
      "    @ ~/.julia/packages/GPUCompiler/wHjqZ/src/driver.jl:319 [inlined]",
      "  [3] macro expansion",
      "    @ ~/.julia/packages/TimerOutputs/ZQ0rt/src/TimerOutput.jl:236 [inlined]",
      "  [4] macro expansion",
      "    @ ~/.julia/packages/GPUCompiler/wHjqZ/src/driver.jl:317 [inlined]",
      "  [5] emit_asm(job::GPUCompiler.CompilerJob, ir::LLVM.Module; strip::Bool, validate::Bool, format::LLVM.API.LLVMCodeGenFileType)",
      "    @ GPUCompiler ~/.julia/packages/GPUCompiler/wHjqZ/src/utils.jl:62",
      "  [6] rocfunction_compile(job::GPUCompiler.CompilerJob)",
      "    @ AMDGPU ~/.julia/packages/AMDGPU/YXDXx/src/execution.jl:320",
      "  [7] cached_compilation(cache::Dict{UInt64, Any}, job::GPUCompiler.CompilerJob, compiler::typeof(AMDGPU.rocfunction_compile), linker::typeof(AMDGPU.rocfunction_link))",
      "    @ GPUCompiler ~/.julia/packages/GPUCompiler/wHjqZ/src/cache.jl:89",
      "  [8] rocfunction(f::Function, tt::Type; name::Nothing, device::AMDGPU.RuntimeDevice{HSAAgent}, global_hooks::NamedTuple{(), Tuple{}}, kwargs::Base.Iterators.Pairs{Union{}, Union{}, Tuple{}, NamedTuple{(), Tuple{}}})",
      "    @ AMDGPU ~/.julia/packages/AMDGPU/YXDXx/src/execution.jl:308",
      "  [9] rocfunction(f::Function, tt::Type)",
      "    @ AMDGPU ~/.julia/packages/AMDGPU/YXDXx/src/execution.jl:299",
      " [10] macro expansion",
      "    @ ~/.julia/packages/AMDGPU/YXDXx/src/execution.jl:192 [inlined]",
      " [11] top-level scope",
      "    @ ~/.julia/packages/GPUCompiler/wHjqZ/src/reflection.jl:149",
      " [12] eval",
      "    @ ./boot.jl:360 [inlined]",
      " [13] include_string(mapexpr::typeof(REPL.softscope), mod::Module, code::String, filename::String)",
      "    @ Base ./loading.jl:1094"
     ]
    }
   ],
   "source": [
    "@device_code_warntype wait(@roc bad_kernel(ROCArray([1])))"
   ]
  },
  {
   "cell_type": "markdown",
   "id": "c9c66446",
   "metadata": {},
   "source": [
    "From this view, it's much more clear that `workitemId` was a typo and should be `workitemIdx` instead. Note that in case your issue lies in a function that's called by the kernel, and isn't directly visible by the `@device_code_warntype` output, you can use Cthulhu.jl to interactively explore code by using `@device_code_warntype interactive=true ...` (the equivalent of Cthulhu's `@descend_code_warntype`).\n",
    "\n",
    "And just to demonstrate the other reflection utilities:"
   ]
  },
  {
   "cell_type": "code",
   "execution_count": 72,
   "id": "05aeeb77",
   "metadata": {},
   "outputs": [
    {
     "name": "stdout",
     "output_type": "stream",
     "text": [
      "; CompilerJob of kernel good_kernel(ROCDeviceVector{Int64, 1}) for GPUCompiler.GCNCompilerTarget\n",
      ";  @ In[72]:1 within `good_kernel'\n",
      "define amdgpu_kernel void @_Z23julia_good_kernel_1390814ROCDeviceArrayI5Int64Li1ELi1EE({ [1 x i64], i8 addrspace(1)* } %0) local_unnamed_addr {\n",
      "entry:\n",
      "  %.fca.1.extract = extractvalue { [1 x i64], i8 addrspace(1)* } %0, 1\n",
      ";  @ In[72]:2 within `good_kernel'\n",
      "; ┌ @ /home/jsamaroo/.julia/packages/AMDGPU/YXDXx/src/device/gcn/indexing.jl:124 within `workitemIdx'\n",
      "; │┌ @ /home/jsamaroo/.julia/packages/AMDGPU/YXDXx/src/device/gcn/indexing.jl:88 within `workitemIdx_x'\n",
      "; ││┌ @ /home/jsamaroo/.julia/packages/AMDGPU/YXDXx/src/device/gcn/indexing.jl:5 within `_index'\n",
      "; │││┌ @ /home/jsamaroo/.julia/packages/AMDGPU/YXDXx/src/device/gcn/indexing.jl:5 within `macro expansion' @ /home/jsamaroo/.julia/packages/LLVM/aqg20/src/interop/base.jl:39\n",
      "      %1 = call i32 @llvm.amdgcn.workitem.id.x()\n",
      "; ││└└\n",
      "; ││┌ @ boot.jl:752 within `Int64'\n",
      "; │││┌ @ boot.jl:676 within `toInt64'\n",
      "      %2 = zext i32 %1 to i64\n",
      "; └└└└\n",
      "; ┌ @ /home/jsamaroo/.julia/packages/AMDGPU/YXDXx/src/device/array.jl:76 within `setindex!'\n",
      "; │┌ @ /home/jsamaroo/.julia/packages/LLVM/aqg20/src/interop/pointer.jl:84 within `unsafe_store!'\n",
      "; ││┌ @ /home/jsamaroo/.julia/packages/LLVM/aqg20/src/interop/pointer.jl:44 within `pointerset'\n",
      "; │││┌ @ /home/jsamaroo/.julia/packages/LLVM/aqg20/src/interop/pointer.jl:44 within `macro expansion' @ /home/jsamaroo/.julia/packages/LLVM/aqg20/src/interop/base.jl:39\n",
      "      %3 = bitcast i8 addrspace(1)* %.fca.1.extract to i64 addrspace(1)*\n",
      "      %4 = getelementptr inbounds i64, i64 addrspace(1)* %3, i64 %2\n",
      "      store i64 0, i64 addrspace(1)* %4, align 8\n",
      "      ret void\n",
      "; └└└└\n",
      "}\n"
     ]
    }
   ],
   "source": [
    "function good_kernel(a)\n",
    "    @inbounds a[workitemIdx().x] = 0\n",
    "    return\n",
    "end\n",
    "\n",
    "@device_code_llvm wait(@roc good_kernel(ROCArray([1])))"
   ]
  },
  {
   "cell_type": "code",
   "execution_count": 74,
   "id": "bc0d6875",
   "metadata": {},
   "outputs": [],
   "source": [
    "# AMDGPU.code_gcn(good_kernel, Tuple{ROCDeviceVector{Int64, 1}})\n",
    "# commented out because it's a lot of output!"
   ]
  },
  {
   "cell_type": "markdown",
   "id": "58fe98a1",
   "metadata": {},
   "source": [
    "## Parallel programming issues\n",
    "\n",
    "Finally, it's also easy to run into issues related to parallel programming: threads need to be synchronized, memories initialized, etc. Mistakes are easy to make, for example, let's look at this kernel to transpose a matrix:"
   ]
  },
  {
   "cell_type": "code",
   "execution_count": 75,
   "id": "27c1d9ab",
   "metadata": {},
   "outputs": [
    {
     "data": {
      "text/plain": [
       "32×32 ROCMatrix{Int64}:\n",
       "   1    2    3    4    5    6    7  …    27    28    29    30    31    32\n",
       "  33   34   35   36   37   38   39       59    60    61    62    63    64\n",
       "  65   66   67   68   69   70   71       91    92    93    94    95    96\n",
       "  97   98   99  100  101  102  103      123   124   125   126   127   128\n",
       " 129  130  131  132  133  134  135      155   156   157   158   159   160\n",
       " 161  162  163  164  165  166  167  …   187   188   189   190   191   192\n",
       " 193  194  195  196  197  198  199      219   220   221   222   223   224\n",
       " 225  226  227  228  229  230  231      251   252   253   254   255   256\n",
       " 257  258  259  260  261  262  263      283   284   285   286   287   288\n",
       " 289  290  291  292  293  294  295      315   316   317   318   319   320\n",
       " 321  322  323  324  325  326  327  …   347   348   349   350   351   352\n",
       " 353  354  355  356  357  358  359      379   380   381   382   383   384\n",
       " 385  386  387  388  389  390  391      411   412   413   414   415   416\n",
       "   ⋮                        ⋮       ⋱                             ⋮  \n",
       " 641  642  643  644  645  646  647  …   667   668   669   670   671   672\n",
       " 673  674  675  676  677  678  679      699   700   701   702   703   704\n",
       " 705  706  707  708  709  710  711      731   732   733   734   735   736\n",
       " 737  738  739  740  741  742  743      763   764   765   766   767   768\n",
       " 769  770  771  772  773  774  775      795   796   797   798   799   800\n",
       " 801  802  803  804  805  806  807  …   827   828   829   830   831   832\n",
       " 833  834  835  836  837  838  839      859   860   861   862   863   864\n",
       " 865  866  867  868  869  870  871      891   892   893   894   895   896\n",
       " 897  898  899  900  901  902  903      923   924   925   926   927   928\n",
       " 929  930  931  932  933  934  935      955   956   957   958   959   960\n",
       " 961  962  963  964  965  966  967  …   987   988   989   990   991   992\n",
       " 993  994  995  996  997  998  999     1019  1020  1021  1022  1023  1024"
      ]
     },
     "metadata": {},
     "output_type": "display_data"
    },
    {
     "name": "stdout",
     "output_type": "stream",
     "text": [
      "Valid transpose: true\n"
     ]
    }
   ],
   "source": [
    "const tile_dim = 16\n",
    "\n",
    "function gpu_transpose(input::ROCMatrix)\n",
    "    function kernel(input::AbstractMatrix{T}, output::AbstractMatrix{T}) where {T}\n",
    "        # shared memory buffer so that operations to global memory are linear and can be coalesced\n",
    "        ptr = AMDGPU.alloc_local(:local, T, tile_dim*tile_dim)\n",
    "        block = ROCDeviceArray((tile_dim, tile_dim), ptr)\n",
    "\n",
    "        # read\n",
    "        x = tile_dim * (workgroupIdx().x - 1) + workitemIdx().x\n",
    "        y = tile_dim * (workgroupIdx().y - 1) + workitemIdx().y\n",
    "        if x <= size(input, 1) && y <= size(input, 2)\n",
    "            block[workitemIdx().y, workitemIdx().x] = input[x, y]\n",
    "        end\n",
    "\n",
    "        # write\n",
    "        x = tile_dim * (workgroupIdx().y - 1) + workitemIdx().x\n",
    "        y = tile_dim * (workgroupIdx().x - 1) + workitemIdx().y\n",
    "        if x <= size(output, 1) && y <= size(output, 2)\n",
    "            output[x, y] = block[workitemIdx().x, workitemIdx().y]\n",
    "        end\n",
    "        return\n",
    "    end\n",
    "    \n",
    "    output = similar(input, reverse(size(input)))\n",
    "    wait(@roc groupsize=(tile_dim, tile_dim) gridsize=size(input) kernel(input, output))\n",
    "    output\n",
    "end\n",
    "\n",
    "a = ROCArray(reshape(1:1024, 32, 32))\n",
    "b = gpu_transpose(a)\n",
    "display(b)\n",
    "println(\"Valid transpose: \", Array(b) == Array(a)')"
   ]
  },
  {
   "cell_type": "markdown",
   "id": "c1f00fc2",
   "metadata": {},
   "source": [
    "If we execute this kernel a couple of times, we see some strange values in the matrix. This may be caused by a race condition, which ROCm probably has tools to inspect, but we would need help from contributors to wrap these tools!"
   ]
  }
 ],
 "metadata": {
  "kernelspec": {
   "display_name": "Julia 1.6.1",
   "language": "julia",
   "name": "julia-1.6"
  },
  "language_info": {
   "file_extension": ".jl",
   "mimetype": "application/julia",
   "name": "julia",
   "version": "1.6.1"
  }
 },
 "nbformat": 4,
 "nbformat_minor": 5
}
