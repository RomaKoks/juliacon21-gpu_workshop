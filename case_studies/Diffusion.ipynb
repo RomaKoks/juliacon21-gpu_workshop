{
 "cells": [
  {
   "cell_type": "code",
   "execution_count": null,
   "id": "40ed876e",
   "metadata": {},
   "outputs": [],
   "source": [
    "GPU_PKG_NAME = \"AMDGPU\"; include(\"common_definitions.jl\");"
   ]
  },
  {
   "cell_type": "code",
   "execution_count": 1,
   "id": "b79f495c",
   "metadata": {},
   "outputs": [
    {
     "name": "stderr",
     "output_type": "stream",
     "text": [
      "┌ Info: Precompiling Images [916415d5-f1e6-5110-898d-aaa5f9f070e0]\n",
      "└ @ Base loading.jl:1317\n"
     ]
    }
   ],
   "source": [
    "using OffsetArrays\n",
    "using Images"
   ]
  },
  {
   "cell_type": "markdown",
   "id": "a282b275",
   "metadata": {},
   "source": [
    "Heat diffusion with broadcast, why the heck not\n",
    "\n",
    "Inspired by https://enccs.github.io/OpenACC-CUDA-beginners/2.02_cuda-heat-equation/"
   ]
  },
  {
   "cell_type": "code",
   "execution_count": 2,
   "id": "59252bab",
   "metadata": {},
   "outputs": [],
   "source": [
    "Base.Broadcast.BroadcastStyle(::Type{<:OffsetArray{<:Any, <:Any, AA}}) where AA = Base.Broadcast.BroadcastStyle(AA)"
   ]
  },
  {
   "cell_type": "code",
   "execution_count": 3,
   "id": "9997264f",
   "metadata": {},
   "outputs": [
    {
     "data": {
      "text/plain": [
       "0.01"
      ]
     },
     "execution_count": 3,
     "metadata": {},
     "output_type": "execute_result"
    }
   ],
   "source": [
    "a  = 0.01\n",
    "dx = 0.01  # x-grid spacing\n",
    "dy = 0.01  # y-grid spacing"
   ]
  },
  {
   "cell_type": "code",
   "execution_count": 4,
   "id": "e2bd1b04",
   "metadata": {},
   "outputs": [
    {
     "data": {
      "text/plain": [
       "0.0024999999999999996"
      ]
     },
     "execution_count": 4,
     "metadata": {},
     "output_type": "execute_result"
    }
   ],
   "source": [
    "dt = dx^2 * dy^2 / (2.0 * a * (dx^2 + dy^2)) # Largest stable time step"
   ]
  },
  {
   "cell_type": "code",
   "execution_count": 5,
   "id": "79b3e6dd",
   "metadata": {},
   "outputs": [
    {
     "data": {
      "text/plain": [
       "64"
      ]
     },
     "execution_count": 5,
     "metadata": {},
     "output_type": "execute_result"
    }
   ],
   "source": [
    "N = 64"
   ]
  },
  {
   "cell_type": "code",
   "execution_count": 6,
   "id": "105f5e24",
   "metadata": {},
   "outputs": [
    {
     "data": {
      "text/plain": [
       "diffuse! (generic function with 1 method)"
      ]
     },
     "execution_count": 6,
     "metadata": {},
     "output_type": "execute_result"
    }
   ],
   "source": [
    "function diffuse!(data, a, dt, dx, dy)\n",
    "    dij   = view(data, 1:N, 1:N)\n",
    "    dim1j = view(data, 0:(N-1), 1:N)\n",
    "    dijm1 = view(data, 1:N, 0:(N-1))\n",
    "    dip1j = view(data, 2:(N+1), 1:N)\n",
    "    dijp1 = view(data, 1:N, 2:(N+1))\n",
    "\n",
    "    # Apply diffusion\n",
    "    @. dij += a * dt * (\n",
    "        (dim1j - 2 * dij + dip1j)/dx^2 +\n",
    "        (dijm1 - 2 * dij + dijp1)/dy^2)\n",
    "\n",
    "    # update boundary condition (wrap around)\n",
    "    data[0, :]   .= data[N, :]\n",
    "    data[N+1, :] .= data[1, :]\n",
    "    data[:, 0]   .= data[:, N]\n",
    "    data[:, N+1] .= data[:, 0]\n",
    "    data\n",
    "end"
   ]
  },
  {
   "cell_type": "code",
   "execution_count": 18,
   "id": "e059c3ef",
   "metadata": {},
   "outputs": [
    {
     "data": {
      "text/html": [
       "<img src=\"files/reel-9694636552841072159.gif?4052508399993661636\" />"
      ],
      "text/plain": [
       "Frames{MIME{Symbol(\"image/png\")}}(\"/tmp/jl_8d2OhI\", 0x00000000000003e8, 30.0, nothing)"
      ]
     },
     "execution_count": 18,
     "metadata": {},
     "output_type": "execute_result"
    }
   ],
   "source": [
    "using Reel; Reel.set_output_type(\"gif\")\n",
    "frames = Frames(MIME(\"image/png\"), fps=30)\n",
    "domain = OffsetArray(zeros(N+2, N+2), 0:(N+1), 0:(N+1))\n",
    "domain[16:32, 16:32] .= 5\n",
    "for i in 1:1000\n",
    "    diffuse!(domain, a, dt, dx, dy)\n",
    "    push!(frames, Gray.(domain))\n",
    "end\n",
    "frames"
   ]
  },
  {
   "cell_type": "code",
   "execution_count": null,
   "id": "9d9264e1",
   "metadata": {},
   "outputs": [],
   "source": []
  }
 ],
 "metadata": {
  "kernelspec": {
   "display_name": "Julia 1.6.1",
   "language": "julia",
   "name": "julia-1.6"
  },
  "language_info": {
   "file_extension": ".jl",
   "mimetype": "application/julia",
   "name": "julia",
   "version": "1.6.1"
  }
 },
 "nbformat": 4,
 "nbformat_minor": 5
}
