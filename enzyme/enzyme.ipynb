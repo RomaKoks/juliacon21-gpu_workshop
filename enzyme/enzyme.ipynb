{
 "cells": [
  {
   "cell_type": "code",
   "execution_count": 1,
   "metadata": {},
   "outputs": [
    {
     "data": {
      "text/plain": [
       ":CUDA"
      ]
     },
     "execution_count": 1,
     "metadata": {},
     "output_type": "execute_result"
    }
   ],
   "source": [
    "# Choose a backend\n",
    "# CUDA, AMD, or CPU\n",
    "\n",
    "# If you have no GPU you can still follow along\n",
    "# You might want to install a Kernel with threads enable\n",
    "# `IJulia.installkernel(\"Julia 1.6.2 Threads\", \"--threads=auto\")` and restart\n",
    "# this notebook with that kernel.\n",
    "\n",
    "const BACKEND = :CUDA"
   ]
  },
  {
   "cell_type": "code",
   "execution_count": 2,
   "metadata": {},
   "outputs": [
    {
     "name": "stderr",
     "output_type": "stream",
     "text": [
      "\u001b[32m\u001b[1m  Activating\u001b[22m\u001b[39m environment at `~/juliacon21-gpu_workshop/sneak_peek/CUDAEnv/Project.toml`\n"
     ]
    }
   ],
   "source": [
    "using Pkg\n",
    "Pkg.activate(string(BACKEND, \"Env\"))\n",
    "\n",
    "# Install packages\n",
    "# pkg\"add KernelAbstractions, Adapt, Enzyme@0.6.5\"\n",
    "# pkg\"add Enzyme\"\n",
    "# pkg\"add https://github.com/JuliaGPU/KernelAbstractions.jl#vc/KernelGradients:lib/KernelGradients\"\n",
    "\n",
    "# if BACKEND == :CUDA\n",
    "#     pkg\"add CUDAKernels, CUDA\"\n",
    "# elseif BACKEND == :AMD\n",
    "#     pkg\"add ROCMKernels, AMDGPU\"\n",
    "# end"
   ]
  },
  {
   "cell_type": "code",
   "execution_count": 3,
   "metadata": {},
   "outputs": [],
   "source": [
    "using KernelAbstractions, KernelGradients, Adapt, Enzyme"
   ]
  },
  {
   "cell_type": "code",
   "execution_count": 4,
   "metadata": {},
   "outputs": [
    {
     "data": {
      "text/plain": [
       "CUDADevice"
      ]
     },
     "execution_count": 4,
     "metadata": {},
     "output_type": "execute_result"
    }
   ],
   "source": [
    "if BACKEND == :CUDA\n",
    "    using CUDA, CUDAKernels\n",
    "    const ArrayT = CuArray\n",
    "    const Device = CUDADevice\n",
    "elseif BACKEND == :AMD\n",
    "    using AMDGPU, ROCMKernels\n",
    "    const ArrayT = CuArray\n",
    "    const Device = CUDADevice\n",
    "else BACKEND == :CPU\n",
    "    const ArrayT = Array\n",
    "    const Device = CPU\n",
    "end"
   ]
  },
  {
   "cell_type": "code",
   "execution_count": 5,
   "metadata": {},
   "outputs": [
    {
     "data": {
      "text/plain": [
       "matmul_kernel! (generic function with 5 methods)"
      ]
     },
     "execution_count": 5,
     "metadata": {},
     "output_type": "execute_result"
    }
   ],
   "source": [
    "@kernel function matmul_kernel!(out, a, b)\n",
    "    i, j = @index(Global, NTuple)\n",
    "\n",
    "    # creating a temporary sum variable for matrix multiplication\n",
    "    tmp_sum = zero(eltype(out))\n",
    "    for k = 1:size(a)[2]\n",
    "        tmp_sum += @inbounds a[i, k] * b[k, j]\n",
    "    end\n",
    "\n",
    "    @inbounds out[i,j] = tmp_sum\n",
    "end"
   ]
  },
  {
   "cell_type": "code",
   "execution_count": 6,
   "metadata": {},
   "outputs": [],
   "source": [
    "a = adapt(ArrayT, rand(64, 128))\n",
    "b = adapt(ArrayT, rand(128, 32))\n",
    "c = adapt(ArrayT, zeros(64, 32))\n",
    "nothing"
   ]
  },
  {
   "cell_type": "code",
   "execution_count": 7,
   "metadata": {},
   "outputs": [],
   "source": [
    "# @ka_code_typed matmul_kernel!(Device())(c, a, b, ndrange=size(c))"
   ]
  },
  {
   "cell_type": "code",
   "execution_count": 8,
   "metadata": {},
   "outputs": [],
   "source": [
    "wait(matmul_kernel!(Device())(c, a, b, ndrange=size(c)))"
   ]
  },
  {
   "cell_type": "code",
   "execution_count": 9,
   "metadata": {},
   "outputs": [
    {
     "data": {
      "text/plain": [
       "true"
      ]
     },
     "execution_count": 9,
     "metadata": {},
     "output_type": "execute_result"
    }
   ],
   "source": [
    "c ≈ a*b"
   ]
  },
  {
   "cell_type": "code",
   "execution_count": 10,
   "metadata": {},
   "outputs": [
    {
     "data": {
      "text/plain": [
       "KernelAbstractions.Kernel{CUDADevice, KernelAbstractions.NDIteration.DynamicSize, KernelAbstractions.NDIteration.DynamicSize, KernelGradients.var\"#df#3\"{KernelAbstractions.Kernel{CUDADevice, KernelAbstractions.NDIteration.DynamicSize, KernelAbstractions.NDIteration.DynamicSize, typeof(gpu_matmul_kernel!)}}}(KernelGradients.var\"#df#3\"{KernelAbstractions.Kernel{CUDADevice, KernelAbstractions.NDIteration.DynamicSize, KernelAbstractions.NDIteration.DynamicSize, typeof(gpu_matmul_kernel!)}}(KernelAbstractions.Kernel{CUDADevice, KernelAbstractions.NDIteration.DynamicSize, KernelAbstractions.NDIteration.DynamicSize, typeof(gpu_matmul_kernel!)}(gpu_matmul_kernel!)))"
      ]
     },
     "execution_count": 10,
     "metadata": {},
     "output_type": "execute_result"
    }
   ],
   "source": [
    "matmul_adjoint = autodiff(matmul_kernel!(Device()))"
   ]
  },
  {
   "cell_type": "code",
   "execution_count": 11,
   "metadata": {},
   "outputs": [],
   "source": [
    "dc = similar(c)\n",
    "fill!(c, 0)\n",
    "fill!(dc, 1)\n",
    "copy_dc = copy(dc)\n",
    "\n",
    "da = zero(a)\n",
    "db = zero(b)\n",
    "nothing"
   ]
  },
  {
   "cell_type": "code",
   "execution_count": 12,
   "metadata": {},
   "outputs": [],
   "source": [
    "wait(matmul_adjoint(Duplicated(c, dc), Duplicated(a, da), Duplicated(b, db), ndrange=size(c)))"
   ]
  },
  {
   "cell_type": "code",
   "execution_count": 13,
   "metadata": {},
   "outputs": [
    {
     "data": {
      "text/plain": [
       "true"
      ]
     },
     "execution_count": 13,
     "metadata": {},
     "output_type": "execute_result"
    }
   ],
   "source": [
    "da ≈ copy_dc * b'"
   ]
  },
  {
   "cell_type": "code",
   "execution_count": 14,
   "metadata": {},
   "outputs": [
    {
     "data": {
      "text/plain": [
       "true"
      ]
     },
     "execution_count": 14,
     "metadata": {},
     "output_type": "execute_result"
    }
   ],
   "source": [
    "db ≈ a' * copy_dc"
   ]
  }
 ],
 "metadata": {
  "kernelspec": {
   "display_name": "Julia 1.6.2 Threads 1.6.2",
   "name": "julia-1.6.2-threads-1.6"
  },
  "language_info": {
   "file_extension": ".jl",
   "mimetype": "application/julia",
   "name": "julia",
   "version": "1.6.2"
  },
  "orig_nbformat": 4
 },
 "nbformat": 4,
 "nbformat_minor": 2
}